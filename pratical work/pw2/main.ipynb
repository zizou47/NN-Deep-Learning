{
  "cells": [
    {
      "cell_type": "markdown",
      "id": "e7316a32",
      "metadata": {
        "id": "e7316a32"
      },
      "source": [
        "## Author : Ben madani Yazid | AIS"
      ]
    },
    {
      "cell_type": "markdown",
      "id": "5d5d2796",
      "metadata": {
        "id": "5d5d2796"
      },
      "source": [
        "<div style=\" background-color: RGB(0,114,200);\" >\n",
        "<h1 style=\"margin: auto; padding: 20px 0; color:#fff; text-align: center\">PROJET OF DATA ANALYSIS</h1>\n",
        "<h2 style=\"margin: auto; padding: 20px 0; color:#fff; text-align: center\">FAO Study\n",
        "</h2>\n",
        "</div>"
      ]
    },
    {
      "cell_type": "markdown",
      "id": "4ca60c24",
      "metadata": {
        "id": "4ca60c24"
      },
      "source": [
        "![FAO](https://github.com/zizou47/Data-Science-Projects/blob/main/Food%2C%20Agriculture%20Organization%20(FAO)%20analysis/FAO.png?raw=1)\n"
      ]
    },
    {
      "cell_type": "markdown",
      "id": "6e00fa8a",
      "metadata": {
        "id": "6e00fa8a"
      },
      "source": [
        "# RESEARCH QUESTION\n",
        "\n",
        "* What are the global trends in undernutrition over the past decade, and which countries have been most affected?\n",
        "* How factors such as import, disponibility... correlate with undernutrition rates in different countries?\n",
        "* which demographic groups have been most vulnerable? which country import most, have most disponibility... in 2017\n",
        "\n",
        "\n",
        "\n"
      ]
    },
    {
      "cell_type": "markdown",
      "id": "c0c495ba",
      "metadata": {
        "id": "c0c495ba"
      },
      "source": [
        "Source of dataset : https://www.kaggle.com/code/alizechasse/fao-study/notebook"
      ]
    },
    {
      "cell_type": "markdown",
      "id": "9dad8326",
      "metadata": {
        "id": "9dad8326"
      },
      "source": [
        "<div style=\"background-color: RGB(0,150,250);\" >\n",
        "<h2 style=\"margin: auto; padding: 20px; color:#fff; \">Step 1 - Importation of librairies and loading data</h2>\n",
        "</div>"
      ]
    },
    {
      "cell_type": "markdown",
      "id": "4ee69457",
      "metadata": {
        "id": "4ee69457"
      },
      "source": [
        "<div style=\"border: 1px solid RGB(0,150,250);\" >\n",
        "<h3 style=\"margin: auto; padding: 20px; color: RGB(0,150,250); \">1.1 - Importation of librairies</h3>\n",
        "</div>"
      ]
    },
    {
      "cell_type": "code",
      "execution_count": null,
      "id": "ffe62b56",
      "metadata": {
        "id": "ffe62b56"
      },
      "outputs": [],
      "source": [
        "import pandas as pd\n",
        "import numpy as np"
      ]
    },
    {
      "cell_type": "markdown",
      "id": "8bd8e7ed",
      "metadata": {
        "id": "8bd8e7ed"
      },
      "source": [
        "<div style=\"border: 1px solid RGB(0,150,250);\" >\n",
        "<h3 style=\"margin: auto; padding: 20px; color: RGB(0,150,250); \">1.2 - Load csv files</h3>\n",
        "</div>"
      ]
    },
    {
      "cell_type": "code",
      "execution_count": null,
      "id": "b304f108",
      "metadata": {
        "id": "b304f108"
      },
      "outputs": [],
      "source": [
        "# population.csv\n",
        "population = pd.read_csv('./data/population.csv', sep=',')\n",
        "\n",
        "# disponibility.csv\n",
        "disponibility = pd.read_csv('./data/disponibility_alim.csv', sep=',')\n",
        "\n",
        "# alimentary.csv\n",
        "alimentary = pd.read_csv('./data/alimentary.csv', sep=',')\n",
        "\n",
        "# nutrition.csv\n",
        "nutrition = pd.read_csv('./data/nutrition.csv', sep=',')\n"
      ]
    },
    {
      "cell_type": "markdown",
      "id": "1249847a",
      "metadata": {
        "id": "1249847a"
      },
      "source": [
        "<div style=\"background-color: RGB(0,150,250);\" >\n",
        "<h2 style=\"margin: auto; padding: 20px; color:#fff; \">Step 2 - EDA</h2>\n",
        "</div>"
      ]
    },
    {
      "cell_type": "markdown",
      "id": "235e6e91",
      "metadata": {
        "id": "235e6e91"
      },
      "source": [
        "<div style=\"border: 1px solid RGB(0,150,250);\" >\n",
        "<h3 style=\"margin: auto; padding: 20px; color: RGB(0,150,250); \">2.1 - EDA of population</h3>\n",
        "</div>"
      ]
    },
    {
      "cell_type": "code",
      "execution_count": null,
      "id": "4221bb22",
      "metadata": {
        "id": "4221bb22",
        "outputId": "757dda52-fd27-45df-bdbc-2089dfcfffdc"
      },
      "outputs": [
        {
          "name": "stdout",
          "output_type": "stream",
          "text": [
            "<class 'pandas.core.frame.DataFrame'>\n",
            "RangeIndex: 1416 entries, 0 to 1415\n",
            "Data columns (total 3 columns):\n",
            " #   Column      Non-Null Count  Dtype  \n",
            "---  ------      --------------  -----  \n",
            " 0   country     1416 non-null   object \n",
            " 1   year        1416 non-null   int64  \n",
            " 2   Population  1416 non-null   float64\n",
            "dtypes: float64(1), int64(1), object(1)\n",
            "memory usage: 33.3+ KB\n"
          ]
        }
      ],
      "source": [
        "population.info()"
      ]
    },
    {
      "cell_type": "markdown",
      "id": "d5319669",
      "metadata": {
        "id": "d5319669"
      },
      "source": [
        "* no nan values\n",
        "* 1416 rows, 3 columns\n",
        "* population dtype is float which need to be changed"
      ]
    },
    {
      "cell_type": "code",
      "execution_count": null,
      "id": "e6b639d2",
      "metadata": {
        "id": "e6b639d2",
        "outputId": "b40f3859-52cd-4c9c-8919-68a06274242e"
      },
      "outputs": [
        {
          "data": {
            "text/html": [
              "<div>\n",
              "<style scoped>\n",
              "    .dataframe tbody tr th:only-of-type {\n",
              "        vertical-align: middle;\n",
              "    }\n",
              "\n",
              "    .dataframe tbody tr th {\n",
              "        vertical-align: top;\n",
              "    }\n",
              "\n",
              "    .dataframe thead th {\n",
              "        text-align: right;\n",
              "    }\n",
              "</style>\n",
              "<table border=\"1\" class=\"dataframe\">\n",
              "  <thead>\n",
              "    <tr style=\"text-align: right;\">\n",
              "      <th></th>\n",
              "      <th>country</th>\n",
              "      <th>year</th>\n",
              "      <th>Population</th>\n",
              "    </tr>\n",
              "  </thead>\n",
              "  <tbody>\n",
              "    <tr>\n",
              "      <th>0</th>\n",
              "      <td>Afghanistan</td>\n",
              "      <td>2013</td>\n",
              "      <td>32269.589</td>\n",
              "    </tr>\n",
              "    <tr>\n",
              "      <th>1</th>\n",
              "      <td>Afghanistan</td>\n",
              "      <td>2014</td>\n",
              "      <td>33370.794</td>\n",
              "    </tr>\n",
              "    <tr>\n",
              "      <th>2</th>\n",
              "      <td>Afghanistan</td>\n",
              "      <td>2015</td>\n",
              "      <td>34413.603</td>\n",
              "    </tr>\n",
              "    <tr>\n",
              "      <th>3</th>\n",
              "      <td>Afghanistan</td>\n",
              "      <td>2016</td>\n",
              "      <td>35383.032</td>\n",
              "    </tr>\n",
              "    <tr>\n",
              "      <th>4</th>\n",
              "      <td>Afghanistan</td>\n",
              "      <td>2017</td>\n",
              "      <td>36296.113</td>\n",
              "    </tr>\n",
              "  </tbody>\n",
              "</table>\n",
              "</div>"
            ],
            "text/plain": [
              "       country  year  Population\n",
              "0  Afghanistan  2013   32269.589\n",
              "1  Afghanistan  2014   33370.794\n",
              "2  Afghanistan  2015   34413.603\n",
              "3  Afghanistan  2016   35383.032\n",
              "4  Afghanistan  2017   36296.113"
            ]
          },
          "execution_count": 1123,
          "metadata": {},
          "output_type": "execute_result"
        }
      ],
      "source": [
        "population.head()"
      ]
    },
    {
      "cell_type": "code",
      "execution_count": null,
      "id": "29dcc441",
      "metadata": {
        "id": "29dcc441"
      },
      "outputs": [],
      "source": [
        "# changing population to million with int dtype\n",
        "population['Population'] = population['Population'] * 1000\n",
        "population['Population'] = population['Population'].astype(int)"
      ]
    },
    {
      "cell_type": "code",
      "execution_count": null,
      "id": "d0bdd069",
      "metadata": {
        "id": "d0bdd069",
        "outputId": "6254b0a2-c870-489f-95f5-7a38ebe2418c"
      },
      "outputs": [
        {
          "data": {
            "text/html": [
              "<div>\n",
              "<style scoped>\n",
              "    .dataframe tbody tr th:only-of-type {\n",
              "        vertical-align: middle;\n",
              "    }\n",
              "\n",
              "    .dataframe tbody tr th {\n",
              "        vertical-align: top;\n",
              "    }\n",
              "\n",
              "    .dataframe thead th {\n",
              "        text-align: right;\n",
              "    }\n",
              "</style>\n",
              "<table border=\"1\" class=\"dataframe\">\n",
              "  <thead>\n",
              "    <tr style=\"text-align: right;\">\n",
              "      <th></th>\n",
              "      <th>country</th>\n",
              "      <th>year</th>\n",
              "      <th>Population</th>\n",
              "    </tr>\n",
              "  </thead>\n",
              "  <tbody>\n",
              "    <tr>\n",
              "      <th>0</th>\n",
              "      <td>Afghanistan</td>\n",
              "      <td>2013</td>\n",
              "      <td>32269589</td>\n",
              "    </tr>\n",
              "    <tr>\n",
              "      <th>1</th>\n",
              "      <td>Afghanistan</td>\n",
              "      <td>2014</td>\n",
              "      <td>33370794</td>\n",
              "    </tr>\n",
              "    <tr>\n",
              "      <th>2</th>\n",
              "      <td>Afghanistan</td>\n",
              "      <td>2015</td>\n",
              "      <td>34413603</td>\n",
              "    </tr>\n",
              "    <tr>\n",
              "      <th>3</th>\n",
              "      <td>Afghanistan</td>\n",
              "      <td>2016</td>\n",
              "      <td>35383032</td>\n",
              "    </tr>\n",
              "    <tr>\n",
              "      <th>4</th>\n",
              "      <td>Afghanistan</td>\n",
              "      <td>2017</td>\n",
              "      <td>36296113</td>\n",
              "    </tr>\n",
              "  </tbody>\n",
              "</table>\n",
              "</div>"
            ],
            "text/plain": [
              "       country  year  Population\n",
              "0  Afghanistan  2013    32269589\n",
              "1  Afghanistan  2014    33370794\n",
              "2  Afghanistan  2015    34413603\n",
              "3  Afghanistan  2016    35383032\n",
              "4  Afghanistan  2017    36296113"
            ]
          },
          "execution_count": 1125,
          "metadata": {},
          "output_type": "execute_result"
        }
      ],
      "source": [
        "population.head()"
      ]
    },
    {
      "cell_type": "code",
      "execution_count": null,
      "id": "f7fb9bbc",
      "metadata": {
        "id": "f7fb9bbc",
        "outputId": "12686643-ab2a-488e-ca38-facc75e87c9e"
      },
      "outputs": [
        {
          "data": {
            "text/plain": [
              "array([2013, 2014, 2015, 2016, 2017, 2018], dtype=int64)"
            ]
          },
          "execution_count": 1126,
          "metadata": {},
          "output_type": "execute_result"
        }
      ],
      "source": [
        "population.year.unique()"
      ]
    },
    {
      "cell_type": "markdown",
      "id": "da8d8598",
      "metadata": {
        "id": "da8d8598"
      },
      "source": []
    },
    {
      "cell_type": "markdown",
      "id": "4224b896",
      "metadata": {
        "id": "4224b896"
      },
      "source": [
        "<div style=\"border: 1px solid RGB(0,150,250);\" >\n",
        "<h3 style=\"margin: auto; padding: 20px; color: RGB(0,150,250); \">2.2 - EDA disponibility</h3>\n",
        "</div>"
      ]
    },
    {
      "cell_type": "code",
      "execution_count": null,
      "id": "38f5b838",
      "metadata": {
        "id": "38f5b838",
        "outputId": "9b7f9438-1e53-408e-a642-be1a4801ed3b"
      },
      "outputs": [
        {
          "data": {
            "text/html": [
              "<div>\n",
              "<style scoped>\n",
              "    .dataframe tbody tr th:only-of-type {\n",
              "        vertical-align: middle;\n",
              "    }\n",
              "\n",
              "    .dataframe tbody tr th {\n",
              "        vertical-align: top;\n",
              "    }\n",
              "\n",
              "    .dataframe thead th {\n",
              "        text-align: right;\n",
              "    }\n",
              "</style>\n",
              "<table border=\"1\" class=\"dataframe\">\n",
              "  <thead>\n",
              "    <tr style=\"text-align: right;\">\n",
              "      <th></th>\n",
              "      <th>country</th>\n",
              "      <th>product</th>\n",
              "      <th>Origin</th>\n",
              "      <th>for animals</th>\n",
              "      <th>other use</th>\n",
              "      <th>Dispo(Kcal/p/d)</th>\n",
              "      <th>Dispo(kg/p/y)</th>\n",
              "      <th>Dispo grasse(g/p/d)</th>\n",
              "      <th>Dispo protein (g/p/d)</th>\n",
              "      <th>domastic</th>\n",
              "      <th>Exportations</th>\n",
              "      <th>Importations</th>\n",
              "      <th>nutrition</th>\n",
              "      <th>Production</th>\n",
              "    </tr>\n",
              "  </thead>\n",
              "  <tbody>\n",
              "    <tr>\n",
              "      <th>0</th>\n",
              "      <td>Afghanistan</td>\n",
              "      <td>Abats Comestible</td>\n",
              "      <td>animale</td>\n",
              "      <td>NaN</td>\n",
              "      <td>NaN</td>\n",
              "      <td>5.0</td>\n",
              "      <td>1.72</td>\n",
              "      <td>0.20</td>\n",
              "      <td>0.77</td>\n",
              "      <td>53.0</td>\n",
              "      <td>NaN</td>\n",
              "      <td>NaN</td>\n",
              "      <td>53.0</td>\n",
              "      <td>53.0</td>\n",
              "    </tr>\n",
              "    <tr>\n",
              "      <th>1</th>\n",
              "      <td>Afghanistan</td>\n",
              "      <td>Agrumes, Autres</td>\n",
              "      <td>vegetale</td>\n",
              "      <td>NaN</td>\n",
              "      <td>NaN</td>\n",
              "      <td>1.0</td>\n",
              "      <td>1.29</td>\n",
              "      <td>0.01</td>\n",
              "      <td>0.02</td>\n",
              "      <td>41.0</td>\n",
              "      <td>2.0</td>\n",
              "      <td>40.0</td>\n",
              "      <td>39.0</td>\n",
              "      <td>3.0</td>\n",
              "    </tr>\n",
              "    <tr>\n",
              "      <th>2</th>\n",
              "      <td>Afghanistan</td>\n",
              "      <td>Aliments pour enfants</td>\n",
              "      <td>vegetale</td>\n",
              "      <td>NaN</td>\n",
              "      <td>NaN</td>\n",
              "      <td>1.0</td>\n",
              "      <td>0.06</td>\n",
              "      <td>0.01</td>\n",
              "      <td>0.03</td>\n",
              "      <td>2.0</td>\n",
              "      <td>NaN</td>\n",
              "      <td>2.0</td>\n",
              "      <td>2.0</td>\n",
              "      <td>NaN</td>\n",
              "    </tr>\n",
              "    <tr>\n",
              "      <th>3</th>\n",
              "      <td>Afghanistan</td>\n",
              "      <td>Ananas</td>\n",
              "      <td>vegetale</td>\n",
              "      <td>NaN</td>\n",
              "      <td>NaN</td>\n",
              "      <td>0.0</td>\n",
              "      <td>0.00</td>\n",
              "      <td>NaN</td>\n",
              "      <td>NaN</td>\n",
              "      <td>0.0</td>\n",
              "      <td>NaN</td>\n",
              "      <td>0.0</td>\n",
              "      <td>0.0</td>\n",
              "      <td>NaN</td>\n",
              "    </tr>\n",
              "    <tr>\n",
              "      <th>4</th>\n",
              "      <td>Afghanistan</td>\n",
              "      <td>Bananes</td>\n",
              "      <td>vegetale</td>\n",
              "      <td>NaN</td>\n",
              "      <td>NaN</td>\n",
              "      <td>4.0</td>\n",
              "      <td>2.70</td>\n",
              "      <td>0.02</td>\n",
              "      <td>0.05</td>\n",
              "      <td>82.0</td>\n",
              "      <td>NaN</td>\n",
              "      <td>82.0</td>\n",
              "      <td>82.0</td>\n",
              "      <td>NaN</td>\n",
              "    </tr>\n",
              "  </tbody>\n",
              "</table>\n",
              "</div>"
            ],
            "text/plain": [
              "       country                product    Origin  for animals  other use  \\\n",
              "0  Afghanistan       Abats Comestible   animale          NaN        NaN   \n",
              "1  Afghanistan        Agrumes, Autres  vegetale          NaN        NaN   \n",
              "2  Afghanistan  Aliments pour enfants  vegetale          NaN        NaN   \n",
              "3  Afghanistan                 Ananas  vegetale          NaN        NaN   \n",
              "4  Afghanistan                Bananes  vegetale          NaN        NaN   \n",
              "\n",
              "   Dispo(Kcal/p/d)  Dispo(kg/p/y)  Dispo grasse(g/p/d)  Dispo protein (g/p/d)  \\\n",
              "0              5.0           1.72                 0.20                   0.77   \n",
              "1              1.0           1.29                 0.01                   0.02   \n",
              "2              1.0           0.06                 0.01                   0.03   \n",
              "3              0.0           0.00                  NaN                    NaN   \n",
              "4              4.0           2.70                 0.02                   0.05   \n",
              "\n",
              "   domastic  Exportations  Importations  nutrition  Production  \n",
              "0      53.0           NaN           NaN       53.0        53.0  \n",
              "1      41.0           2.0          40.0       39.0         3.0  \n",
              "2       2.0           NaN           2.0        2.0         NaN  \n",
              "3       0.0           NaN           0.0        0.0         NaN  \n",
              "4      82.0           NaN          82.0       82.0         NaN  "
            ]
          },
          "execution_count": 1127,
          "metadata": {},
          "output_type": "execute_result"
        }
      ],
      "source": [
        "disponibility.head()"
      ]
    },
    {
      "cell_type": "code",
      "execution_count": null,
      "id": "dfd7188b",
      "metadata": {
        "id": "dfd7188b",
        "outputId": "6394dc1c-a34d-43ae-866b-44b08875e15b"
      },
      "outputs": [
        {
          "data": {
            "text/html": [
              "<div>\n",
              "<style scoped>\n",
              "    .dataframe tbody tr th:only-of-type {\n",
              "        vertical-align: middle;\n",
              "    }\n",
              "\n",
              "    .dataframe tbody tr th {\n",
              "        vertical-align: top;\n",
              "    }\n",
              "\n",
              "    .dataframe thead th {\n",
              "        text-align: right;\n",
              "    }\n",
              "</style>\n",
              "<table border=\"1\" class=\"dataframe\">\n",
              "  <thead>\n",
              "    <tr style=\"text-align: right;\">\n",
              "      <th></th>\n",
              "      <th>country</th>\n",
              "      <th>product</th>\n",
              "      <th>Origin</th>\n",
              "      <th>for animals</th>\n",
              "      <th>other use</th>\n",
              "      <th>Dispo(Kcal/p/d)</th>\n",
              "      <th>Dispo(kg/p/y)</th>\n",
              "      <th>Dispo grasse(g/p/d)</th>\n",
              "      <th>Dispo protein (g/p/d)</th>\n",
              "      <th>domastic</th>\n",
              "      <th>Exportations</th>\n",
              "      <th>Importations</th>\n",
              "      <th>nutrition</th>\n",
              "      <th>Production</th>\n",
              "    </tr>\n",
              "  </thead>\n",
              "  <tbody>\n",
              "    <tr>\n",
              "      <th>count</th>\n",
              "      <td>15605</td>\n",
              "      <td>15605</td>\n",
              "      <td>15605</td>\n",
              "      <td>2720.000000</td>\n",
              "      <td>5496.000000</td>\n",
              "      <td>14241.000000</td>\n",
              "      <td>14015.000000</td>\n",
              "      <td>11794.000000</td>\n",
              "      <td>11561.000000</td>\n",
              "      <td>15382.000000</td>\n",
              "      <td>12226.000000</td>\n",
              "      <td>14852.000000</td>\n",
              "      <td>14015.000000</td>\n",
              "      <td>9180.000000</td>\n",
              "    </tr>\n",
              "    <tr>\n",
              "      <th>unique</th>\n",
              "      <td>174</td>\n",
              "      <td>98</td>\n",
              "      <td>2</td>\n",
              "      <td>NaN</td>\n",
              "      <td>NaN</td>\n",
              "      <td>NaN</td>\n",
              "      <td>NaN</td>\n",
              "      <td>NaN</td>\n",
              "      <td>NaN</td>\n",
              "      <td>NaN</td>\n",
              "      <td>NaN</td>\n",
              "      <td>NaN</td>\n",
              "      <td>NaN</td>\n",
              "      <td>NaN</td>\n",
              "    </tr>\n",
              "    <tr>\n",
              "      <th>top</th>\n",
              "      <td>Inde</td>\n",
              "      <td>Abats Comestible</td>\n",
              "      <td>vegetale</td>\n",
              "      <td>NaN</td>\n",
              "      <td>NaN</td>\n",
              "      <td>NaN</td>\n",
              "      <td>NaN</td>\n",
              "      <td>NaN</td>\n",
              "      <td>NaN</td>\n",
              "      <td>NaN</td>\n",
              "      <td>NaN</td>\n",
              "      <td>NaN</td>\n",
              "      <td>NaN</td>\n",
              "      <td>NaN</td>\n",
              "    </tr>\n",
              "    <tr>\n",
              "      <th>freq</th>\n",
              "      <td>97</td>\n",
              "      <td>174</td>\n",
              "      <td>11896</td>\n",
              "      <td>NaN</td>\n",
              "      <td>NaN</td>\n",
              "      <td>NaN</td>\n",
              "      <td>NaN</td>\n",
              "      <td>NaN</td>\n",
              "      <td>NaN</td>\n",
              "      <td>NaN</td>\n",
              "      <td>NaN</td>\n",
              "      <td>NaN</td>\n",
              "      <td>NaN</td>\n",
              "      <td>NaN</td>\n",
              "    </tr>\n",
              "    <tr>\n",
              "      <th>mean</th>\n",
              "      <td>NaN</td>\n",
              "      <td>NaN</td>\n",
              "      <td>NaN</td>\n",
              "      <td>479.501838</td>\n",
              "      <td>157.391376</td>\n",
              "      <td>34.789832</td>\n",
              "      <td>8.719368</td>\n",
              "      <td>1.283111</td>\n",
              "      <td>1.223608</td>\n",
              "      <td>640.293460</td>\n",
              "      <td>110.596925</td>\n",
              "      <td>87.264543</td>\n",
              "      <td>347.931359</td>\n",
              "      <td>1090.379085</td>\n",
              "    </tr>\n",
              "    <tr>\n",
              "      <th>std</th>\n",
              "      <td>NaN</td>\n",
              "      <td>NaN</td>\n",
              "      <td>NaN</td>\n",
              "      <td>4240.119637</td>\n",
              "      <td>5076.785816</td>\n",
              "      <td>107.287655</td>\n",
              "      <td>24.618223</td>\n",
              "      <td>3.680399</td>\n",
              "      <td>3.598686</td>\n",
              "      <td>9067.267153</td>\n",
              "      <td>1053.318990</td>\n",
              "      <td>717.372714</td>\n",
              "      <td>4475.704458</td>\n",
              "      <td>12067.344094</td>\n",
              "    </tr>\n",
              "    <tr>\n",
              "      <th>min</th>\n",
              "      <td>NaN</td>\n",
              "      <td>NaN</td>\n",
              "      <td>NaN</td>\n",
              "      <td>0.000000</td>\n",
              "      <td>0.000000</td>\n",
              "      <td>-21.000000</td>\n",
              "      <td>-1.930000</td>\n",
              "      <td>-0.030000</td>\n",
              "      <td>-0.370000</td>\n",
              "      <td>-3430.000000</td>\n",
              "      <td>-41.000000</td>\n",
              "      <td>-201.000000</td>\n",
              "      <td>-246.000000</td>\n",
              "      <td>0.000000</td>\n",
              "    </tr>\n",
              "    <tr>\n",
              "      <th>25%</th>\n",
              "      <td>NaN</td>\n",
              "      <td>NaN</td>\n",
              "      <td>NaN</td>\n",
              "      <td>0.000000</td>\n",
              "      <td>0.000000</td>\n",
              "      <td>0.000000</td>\n",
              "      <td>0.060000</td>\n",
              "      <td>0.010000</td>\n",
              "      <td>0.010000</td>\n",
              "      <td>0.000000</td>\n",
              "      <td>0.000000</td>\n",
              "      <td>0.000000</td>\n",
              "      <td>0.000000</td>\n",
              "      <td>2.000000</td>\n",
              "    </tr>\n",
              "    <tr>\n",
              "      <th>50%</th>\n",
              "      <td>NaN</td>\n",
              "      <td>NaN</td>\n",
              "      <td>NaN</td>\n",
              "      <td>4.000000</td>\n",
              "      <td>0.000000</td>\n",
              "      <td>4.000000</td>\n",
              "      <td>0.830000</td>\n",
              "      <td>0.080000</td>\n",
              "      <td>0.100000</td>\n",
              "      <td>7.000000</td>\n",
              "      <td>0.000000</td>\n",
              "      <td>2.000000</td>\n",
              "      <td>5.000000</td>\n",
              "      <td>22.000000</td>\n",
              "    </tr>\n",
              "    <tr>\n",
              "      <th>75%</th>\n",
              "      <td>NaN</td>\n",
              "      <td>NaN</td>\n",
              "      <td>NaN</td>\n",
              "      <td>74.000000</td>\n",
              "      <td>4.000000</td>\n",
              "      <td>21.000000</td>\n",
              "      <td>5.190000</td>\n",
              "      <td>0.630000</td>\n",
              "      <td>0.660000</td>\n",
              "      <td>76.750000</td>\n",
              "      <td>9.000000</td>\n",
              "      <td>18.000000</td>\n",
              "      <td>52.000000</td>\n",
              "      <td>191.250000</td>\n",
              "    </tr>\n",
              "    <tr>\n",
              "      <th>max</th>\n",
              "      <td>NaN</td>\n",
              "      <td>NaN</td>\n",
              "      <td>NaN</td>\n",
              "      <td>150000.000000</td>\n",
              "      <td>347309.000000</td>\n",
              "      <td>1711.000000</td>\n",
              "      <td>430.760000</td>\n",
              "      <td>60.760000</td>\n",
              "      <td>54.970000</td>\n",
              "      <td>739267.000000</td>\n",
              "      <td>42797.000000</td>\n",
              "      <td>63381.000000</td>\n",
              "      <td>426850.000000</td>\n",
              "      <td>739267.000000</td>\n",
              "    </tr>\n",
              "  </tbody>\n",
              "</table>\n",
              "</div>"
            ],
            "text/plain": [
              "       country           product    Origin    for animals      other use  \\\n",
              "count    15605             15605     15605    2720.000000    5496.000000   \n",
              "unique     174                98         2            NaN            NaN   \n",
              "top       Inde  Abats Comestible  vegetale            NaN            NaN   \n",
              "freq        97               174     11896            NaN            NaN   \n",
              "mean       NaN               NaN       NaN     479.501838     157.391376   \n",
              "std        NaN               NaN       NaN    4240.119637    5076.785816   \n",
              "min        NaN               NaN       NaN       0.000000       0.000000   \n",
              "25%        NaN               NaN       NaN       0.000000       0.000000   \n",
              "50%        NaN               NaN       NaN       4.000000       0.000000   \n",
              "75%        NaN               NaN       NaN      74.000000       4.000000   \n",
              "max        NaN               NaN       NaN  150000.000000  347309.000000   \n",
              "\n",
              "        Dispo(Kcal/p/d)  Dispo(kg/p/y)  Dispo grasse(g/p/d)  \\\n",
              "count      14241.000000   14015.000000         11794.000000   \n",
              "unique              NaN            NaN                  NaN   \n",
              "top                 NaN            NaN                  NaN   \n",
              "freq                NaN            NaN                  NaN   \n",
              "mean          34.789832       8.719368             1.283111   \n",
              "std          107.287655      24.618223             3.680399   \n",
              "min          -21.000000      -1.930000            -0.030000   \n",
              "25%            0.000000       0.060000             0.010000   \n",
              "50%            4.000000       0.830000             0.080000   \n",
              "75%           21.000000       5.190000             0.630000   \n",
              "max         1711.000000     430.760000            60.760000   \n",
              "\n",
              "        Dispo protein (g/p/d)       domastic  Exportations  Importations  \\\n",
              "count            11561.000000   15382.000000  12226.000000  14852.000000   \n",
              "unique                    NaN            NaN           NaN           NaN   \n",
              "top                       NaN            NaN           NaN           NaN   \n",
              "freq                      NaN            NaN           NaN           NaN   \n",
              "mean                 1.223608     640.293460    110.596925     87.264543   \n",
              "std                  3.598686    9067.267153   1053.318990    717.372714   \n",
              "min                 -0.370000   -3430.000000    -41.000000   -201.000000   \n",
              "25%                  0.010000       0.000000      0.000000      0.000000   \n",
              "50%                  0.100000       7.000000      0.000000      2.000000   \n",
              "75%                  0.660000      76.750000      9.000000     18.000000   \n",
              "max                 54.970000  739267.000000  42797.000000  63381.000000   \n",
              "\n",
              "            nutrition     Production  \n",
              "count    14015.000000    9180.000000  \n",
              "unique            NaN            NaN  \n",
              "top               NaN            NaN  \n",
              "freq              NaN            NaN  \n",
              "mean       347.931359    1090.379085  \n",
              "std       4475.704458   12067.344094  \n",
              "min       -246.000000       0.000000  \n",
              "25%          0.000000       2.000000  \n",
              "50%          5.000000      22.000000  \n",
              "75%         52.000000     191.250000  \n",
              "max     426850.000000  739267.000000  "
            ]
          },
          "execution_count": 1128,
          "metadata": {},
          "output_type": "execute_result"
        }
      ],
      "source": [
        "disponibility.describe(include='all')"
      ]
    },
    {
      "cell_type": "code",
      "execution_count": null,
      "id": "60930912",
      "metadata": {
        "id": "60930912",
        "outputId": "07721fe6-4032-400d-f6be-cecd2b46c0df"
      },
      "outputs": [
        {
          "name": "stdout",
          "output_type": "stream",
          "text": [
            "<class 'pandas.core.frame.DataFrame'>\n",
            "RangeIndex: 15605 entries, 0 to 15604\n",
            "Data columns (total 14 columns):\n",
            " #   Column                 Non-Null Count  Dtype  \n",
            "---  ------                 --------------  -----  \n",
            " 0   country                15605 non-null  object \n",
            " 1   product                15605 non-null  object \n",
            " 2   Origin                 15605 non-null  object \n",
            " 3   for animals            2720 non-null   float64\n",
            " 4   other use              5496 non-null   float64\n",
            " 5   Dispo(Kcal/p/d)        14241 non-null  float64\n",
            " 6   Dispo(kg/p/y)          14015 non-null  float64\n",
            " 7   Dispo grasse(g/p/d)    11794 non-null  float64\n",
            " 8   Dispo protein (g/p/d)  11561 non-null  float64\n",
            " 9   domastic               15382 non-null  float64\n",
            " 10  Exportations           12226 non-null  float64\n",
            " 11  Importations           14852 non-null  float64\n",
            " 12  nutrition              14015 non-null  float64\n",
            " 13  Production             9180 non-null   float64\n",
            "dtypes: float64(11), object(3)\n",
            "memory usage: 1.7+ MB\n"
          ]
        }
      ],
      "source": [
        "disponibility.info()"
      ]
    },
    {
      "cell_type": "markdown",
      "id": "07680373",
      "metadata": {
        "id": "07680373"
      },
      "source": [
        "* to add more insights i replace nan values by 0 to avoid deleting columns, imputation by other methos risky cuz we have a lot\n",
        "of nan values"
      ]
    },
    {
      "cell_type": "code",
      "execution_count": null,
      "id": "f3832569",
      "metadata": {
        "id": "f3832569"
      },
      "outputs": [],
      "source": [
        "# replace NaN by 0\n",
        "disponibility = disponibility.fillna(0)"
      ]
    },
    {
      "cell_type": "code",
      "execution_count": null,
      "id": "75310d28",
      "metadata": {
        "id": "75310d28",
        "outputId": "2a96e31d-d335-42b4-be62-a39758132f70"
      },
      "outputs": [
        {
          "data": {
            "text/html": [
              "<div>\n",
              "<style scoped>\n",
              "    .dataframe tbody tr th:only-of-type {\n",
              "        vertical-align: middle;\n",
              "    }\n",
              "\n",
              "    .dataframe tbody tr th {\n",
              "        vertical-align: top;\n",
              "    }\n",
              "\n",
              "    .dataframe thead th {\n",
              "        text-align: right;\n",
              "    }\n",
              "</style>\n",
              "<table border=\"1\" class=\"dataframe\">\n",
              "  <thead>\n",
              "    <tr style=\"text-align: right;\">\n",
              "      <th></th>\n",
              "      <th>country</th>\n",
              "      <th>product</th>\n",
              "      <th>Origin</th>\n",
              "      <th>for animals</th>\n",
              "      <th>other use</th>\n",
              "      <th>Dispo(Kcal/p/d)</th>\n",
              "      <th>Dispo(kg/p/y)</th>\n",
              "      <th>Dispo grasse(g/p/d)</th>\n",
              "      <th>Dispo protein (g/p/d)</th>\n",
              "      <th>domastic</th>\n",
              "      <th>Exportations</th>\n",
              "      <th>Importations</th>\n",
              "      <th>nutrition</th>\n",
              "      <th>Production</th>\n",
              "    </tr>\n",
              "  </thead>\n",
              "  <tbody>\n",
              "    <tr>\n",
              "      <th>0</th>\n",
              "      <td>Afghanistan</td>\n",
              "      <td>Abats Comestible</td>\n",
              "      <td>animale</td>\n",
              "      <td>0.0</td>\n",
              "      <td>0.0</td>\n",
              "      <td>5.0</td>\n",
              "      <td>1.72</td>\n",
              "      <td>0.20</td>\n",
              "      <td>0.77</td>\n",
              "      <td>53.0</td>\n",
              "      <td>0.0</td>\n",
              "      <td>0.0</td>\n",
              "      <td>53.0</td>\n",
              "      <td>53.0</td>\n",
              "    </tr>\n",
              "    <tr>\n",
              "      <th>1</th>\n",
              "      <td>Afghanistan</td>\n",
              "      <td>Agrumes, Autres</td>\n",
              "      <td>vegetale</td>\n",
              "      <td>0.0</td>\n",
              "      <td>0.0</td>\n",
              "      <td>1.0</td>\n",
              "      <td>1.29</td>\n",
              "      <td>0.01</td>\n",
              "      <td>0.02</td>\n",
              "      <td>41.0</td>\n",
              "      <td>2.0</td>\n",
              "      <td>40.0</td>\n",
              "      <td>39.0</td>\n",
              "      <td>3.0</td>\n",
              "    </tr>\n",
              "    <tr>\n",
              "      <th>2</th>\n",
              "      <td>Afghanistan</td>\n",
              "      <td>Aliments pour enfants</td>\n",
              "      <td>vegetale</td>\n",
              "      <td>0.0</td>\n",
              "      <td>0.0</td>\n",
              "      <td>1.0</td>\n",
              "      <td>0.06</td>\n",
              "      <td>0.01</td>\n",
              "      <td>0.03</td>\n",
              "      <td>2.0</td>\n",
              "      <td>0.0</td>\n",
              "      <td>2.0</td>\n",
              "      <td>2.0</td>\n",
              "      <td>0.0</td>\n",
              "    </tr>\n",
              "    <tr>\n",
              "      <th>3</th>\n",
              "      <td>Afghanistan</td>\n",
              "      <td>Ananas</td>\n",
              "      <td>vegetale</td>\n",
              "      <td>0.0</td>\n",
              "      <td>0.0</td>\n",
              "      <td>0.0</td>\n",
              "      <td>0.00</td>\n",
              "      <td>0.00</td>\n",
              "      <td>0.00</td>\n",
              "      <td>0.0</td>\n",
              "      <td>0.0</td>\n",
              "      <td>0.0</td>\n",
              "      <td>0.0</td>\n",
              "      <td>0.0</td>\n",
              "    </tr>\n",
              "    <tr>\n",
              "      <th>4</th>\n",
              "      <td>Afghanistan</td>\n",
              "      <td>Bananes</td>\n",
              "      <td>vegetale</td>\n",
              "      <td>0.0</td>\n",
              "      <td>0.0</td>\n",
              "      <td>4.0</td>\n",
              "      <td>2.70</td>\n",
              "      <td>0.02</td>\n",
              "      <td>0.05</td>\n",
              "      <td>82.0</td>\n",
              "      <td>0.0</td>\n",
              "      <td>82.0</td>\n",
              "      <td>82.0</td>\n",
              "      <td>0.0</td>\n",
              "    </tr>\n",
              "  </tbody>\n",
              "</table>\n",
              "</div>"
            ],
            "text/plain": [
              "       country                product    Origin  for animals  other use  \\\n",
              "0  Afghanistan       Abats Comestible   animale          0.0        0.0   \n",
              "1  Afghanistan        Agrumes, Autres  vegetale          0.0        0.0   \n",
              "2  Afghanistan  Aliments pour enfants  vegetale          0.0        0.0   \n",
              "3  Afghanistan                 Ananas  vegetale          0.0        0.0   \n",
              "4  Afghanistan                Bananes  vegetale          0.0        0.0   \n",
              "\n",
              "   Dispo(Kcal/p/d)  Dispo(kg/p/y)  Dispo grasse(g/p/d)  Dispo protein (g/p/d)  \\\n",
              "0              5.0           1.72                 0.20                   0.77   \n",
              "1              1.0           1.29                 0.01                   0.02   \n",
              "2              1.0           0.06                 0.01                   0.03   \n",
              "3              0.0           0.00                 0.00                   0.00   \n",
              "4              4.0           2.70                 0.02                   0.05   \n",
              "\n",
              "   domastic  Exportations  Importations  nutrition  Production  \n",
              "0      53.0           0.0           0.0       53.0        53.0  \n",
              "1      41.0           2.0          40.0       39.0         3.0  \n",
              "2       2.0           0.0           2.0        2.0         0.0  \n",
              "3       0.0           0.0           0.0        0.0         0.0  \n",
              "4      82.0           0.0          82.0       82.0         0.0  "
            ]
          },
          "execution_count": 1131,
          "metadata": {},
          "output_type": "execute_result"
        }
      ],
      "source": [
        "disponibility.head()"
      ]
    },
    {
      "cell_type": "markdown",
      "id": "a09233e4",
      "metadata": {
        "id": "a09233e4"
      },
      "source": [
        "<div style=\"border: 1px solid RGB(0,150,250);\" >\n",
        "<h3 style=\"margin: auto; padding: 20px; color: RGB(0,150,250); \">2.3 - EDA alimentary</h3>\n",
        "</div>"
      ]
    },
    {
      "cell_type": "code",
      "execution_count": null,
      "id": "702f6322",
      "metadata": {
        "id": "702f6322",
        "outputId": "3dba3db1-c52a-46d0-99e2-530a1e8cdd75"
      },
      "outputs": [
        {
          "data": {
            "text/html": [
              "<div>\n",
              "<style scoped>\n",
              "    .dataframe tbody tr th:only-of-type {\n",
              "        vertical-align: middle;\n",
              "    }\n",
              "\n",
              "    .dataframe tbody tr th {\n",
              "        vertical-align: top;\n",
              "    }\n",
              "\n",
              "    .dataframe thead th {\n",
              "        text-align: right;\n",
              "    }\n",
              "</style>\n",
              "<table border=\"1\" class=\"dataframe\">\n",
              "  <thead>\n",
              "    <tr style=\"text-align: right;\">\n",
              "      <th></th>\n",
              "      <th>country</th>\n",
              "      <th>year</th>\n",
              "      <th>product</th>\n",
              "      <th>value</th>\n",
              "    </tr>\n",
              "  </thead>\n",
              "  <tbody>\n",
              "    <tr>\n",
              "      <th>0</th>\n",
              "      <td>Afghanistan</td>\n",
              "      <td>2013</td>\n",
              "      <td>Autres non-céréales</td>\n",
              "      <td>682</td>\n",
              "    </tr>\n",
              "    <tr>\n",
              "      <th>1</th>\n",
              "      <td>Afghanistan</td>\n",
              "      <td>2014</td>\n",
              "      <td>Autres non-céréales</td>\n",
              "      <td>335</td>\n",
              "    </tr>\n",
              "    <tr>\n",
              "      <th>2</th>\n",
              "      <td>Afghanistan</td>\n",
              "      <td>2013</td>\n",
              "      <td>Blé et Farin</td>\n",
              "      <td>39224</td>\n",
              "    </tr>\n",
              "    <tr>\n",
              "      <th>3</th>\n",
              "      <td>Afghanistan</td>\n",
              "      <td>2014</td>\n",
              "      <td>Blé et Farin</td>\n",
              "      <td>15160</td>\n",
              "    </tr>\n",
              "    <tr>\n",
              "      <th>4</th>\n",
              "      <td>Afghanistan</td>\n",
              "      <td>2013</td>\n",
              "      <td>Céréales</td>\n",
              "      <td>40504</td>\n",
              "    </tr>\n",
              "  </tbody>\n",
              "</table>\n",
              "</div>"
            ],
            "text/plain": [
              "       country  year              product  value\n",
              "0  Afghanistan  2013  Autres non-céréales    682\n",
              "1  Afghanistan  2014  Autres non-céréales    335\n",
              "2  Afghanistan  2013         Blé et Farin  39224\n",
              "3  Afghanistan  2014         Blé et Farin  15160\n",
              "4  Afghanistan  2013             Céréales  40504"
            ]
          },
          "execution_count": 1132,
          "metadata": {},
          "output_type": "execute_result"
        }
      ],
      "source": [
        "alimentary.head()\n"
      ]
    },
    {
      "cell_type": "code",
      "execution_count": null,
      "id": "8fead3f9",
      "metadata": {
        "id": "8fead3f9",
        "outputId": "d5a7397c-ba04-4915-ed38-dd3f309cbefa"
      },
      "outputs": [
        {
          "name": "stdout",
          "output_type": "stream",
          "text": [
            "<class 'pandas.core.frame.DataFrame'>\n",
            "RangeIndex: 1475 entries, 0 to 1474\n",
            "Data columns (total 4 columns):\n",
            " #   Column   Non-Null Count  Dtype \n",
            "---  ------   --------------  ----- \n",
            " 0   country  1475 non-null   object\n",
            " 1   year     1475 non-null   int64 \n",
            " 2   product  1475 non-null   object\n",
            " 3   value    1475 non-null   int64 \n",
            "dtypes: int64(2), object(2)\n",
            "memory usage: 46.2+ KB\n"
          ]
        }
      ],
      "source": [
        "alimentary.info()\n"
      ]
    },
    {
      "cell_type": "markdown",
      "id": "48799fb8",
      "metadata": {
        "id": "48799fb8"
      },
      "source": [
        "* no nan values"
      ]
    },
    {
      "cell_type": "code",
      "execution_count": null,
      "id": "43cd3aff",
      "metadata": {
        "id": "43cd3aff",
        "outputId": "bb4a3bf0-e929-4a1b-f4bf-41ad2732ffda"
      },
      "outputs": [
        {
          "data": {
            "text/plain": [
              "array(['Autres non-céréales', 'Blé et Farin', 'Céréales',\n",
              "       'Fruits secs, total', 'Huiles végétales',\n",
              "       'Légumineuses Sèches,Tot.', 'Non-céréales', 'Riz, total',\n",
              "       'Sucre, total', 'Céréales Secondaires', 'Lait, total',\n",
              "       'Mélanges et préparations', 'Poiss&produi', 'BulgurFarEnt',\n",
              "       'Viande Total', 'Graisses Com'], dtype=object)"
            ]
          },
          "execution_count": 1134,
          "metadata": {},
          "output_type": "execute_result"
        }
      ],
      "source": [
        "alimentary['product'].unique()"
      ]
    },
    {
      "cell_type": "markdown",
      "id": "b92647b9",
      "metadata": {
        "id": "b92647b9"
      },
      "source": [
        "* we have 22 type of alimentary"
      ]
    },
    {
      "cell_type": "code",
      "execution_count": null,
      "id": "443ec245",
      "metadata": {
        "id": "443ec245"
      },
      "outputs": [],
      "source": [
        "# multiply values from ton to kg (1000)\n",
        "alimentary['value'] = alimentary['value'] * 1000\n"
      ]
    },
    {
      "cell_type": "code",
      "execution_count": null,
      "id": "d951d8df",
      "metadata": {
        "id": "d951d8df",
        "outputId": "ceaff096-c5a5-46ec-c114-40fcec68b21e"
      },
      "outputs": [
        {
          "data": {
            "text/html": [
              "<div>\n",
              "<style scoped>\n",
              "    .dataframe tbody tr th:only-of-type {\n",
              "        vertical-align: middle;\n",
              "    }\n",
              "\n",
              "    .dataframe tbody tr th {\n",
              "        vertical-align: top;\n",
              "    }\n",
              "\n",
              "    .dataframe thead th {\n",
              "        text-align: right;\n",
              "    }\n",
              "</style>\n",
              "<table border=\"1\" class=\"dataframe\">\n",
              "  <thead>\n",
              "    <tr style=\"text-align: right;\">\n",
              "      <th></th>\n",
              "      <th>country</th>\n",
              "      <th>year</th>\n",
              "      <th>product</th>\n",
              "      <th>value</th>\n",
              "    </tr>\n",
              "  </thead>\n",
              "  <tbody>\n",
              "    <tr>\n",
              "      <th>0</th>\n",
              "      <td>Afghanistan</td>\n",
              "      <td>2013</td>\n",
              "      <td>Autres non-céréales</td>\n",
              "      <td>682000</td>\n",
              "    </tr>\n",
              "    <tr>\n",
              "      <th>1</th>\n",
              "      <td>Afghanistan</td>\n",
              "      <td>2014</td>\n",
              "      <td>Autres non-céréales</td>\n",
              "      <td>335000</td>\n",
              "    </tr>\n",
              "    <tr>\n",
              "      <th>2</th>\n",
              "      <td>Afghanistan</td>\n",
              "      <td>2013</td>\n",
              "      <td>Blé et Farin</td>\n",
              "      <td>39224000</td>\n",
              "    </tr>\n",
              "    <tr>\n",
              "      <th>3</th>\n",
              "      <td>Afghanistan</td>\n",
              "      <td>2014</td>\n",
              "      <td>Blé et Farin</td>\n",
              "      <td>15160000</td>\n",
              "    </tr>\n",
              "    <tr>\n",
              "      <th>4</th>\n",
              "      <td>Afghanistan</td>\n",
              "      <td>2013</td>\n",
              "      <td>Céréales</td>\n",
              "      <td>40504000</td>\n",
              "    </tr>\n",
              "  </tbody>\n",
              "</table>\n",
              "</div>"
            ],
            "text/plain": [
              "       country  year              product     value\n",
              "0  Afghanistan  2013  Autres non-céréales    682000\n",
              "1  Afghanistan  2014  Autres non-céréales    335000\n",
              "2  Afghanistan  2013         Blé et Farin  39224000\n",
              "3  Afghanistan  2014         Blé et Farin  15160000\n",
              "4  Afghanistan  2013             Céréales  40504000"
            ]
          },
          "execution_count": 1136,
          "metadata": {},
          "output_type": "execute_result"
        }
      ],
      "source": [
        "alimentary.head()\n"
      ]
    },
    {
      "cell_type": "markdown",
      "id": "eeae9043",
      "metadata": {
        "id": "eeae9043"
      },
      "source": [
        "<div style=\"border: 1px solid RGB(0,150,250);\" >\n",
        "<h3 style=\"margin: auto; padding: 20px; color: RGB(0,150,250); \">2.3 - EDA nutrition</h3>\n",
        "</div>"
      ]
    },
    {
      "cell_type": "code",
      "execution_count": null,
      "id": "882add3d",
      "metadata": {
        "id": "882add3d",
        "outputId": "330f2416-dadd-4c4c-b7a4-cd81ed06c438"
      },
      "outputs": [
        {
          "data": {
            "text/html": [
              "<div>\n",
              "<style scoped>\n",
              "    .dataframe tbody tr th:only-of-type {\n",
              "        vertical-align: middle;\n",
              "    }\n",
              "\n",
              "    .dataframe tbody tr th {\n",
              "        vertical-align: top;\n",
              "    }\n",
              "\n",
              "    .dataframe thead th {\n",
              "        text-align: right;\n",
              "    }\n",
              "</style>\n",
              "<table border=\"1\" class=\"dataframe\">\n",
              "  <thead>\n",
              "    <tr style=\"text-align: right;\">\n",
              "      <th></th>\n",
              "      <th>country</th>\n",
              "      <th>year</th>\n",
              "      <th>p/nutrition</th>\n",
              "    </tr>\n",
              "  </thead>\n",
              "  <tbody>\n",
              "    <tr>\n",
              "      <th>0</th>\n",
              "      <td>Afghanistan</td>\n",
              "      <td>2012-2014</td>\n",
              "      <td>8.6</td>\n",
              "    </tr>\n",
              "    <tr>\n",
              "      <th>1</th>\n",
              "      <td>Afghanistan</td>\n",
              "      <td>2013-2015</td>\n",
              "      <td>8.8</td>\n",
              "    </tr>\n",
              "    <tr>\n",
              "      <th>2</th>\n",
              "      <td>Afghanistan</td>\n",
              "      <td>2014-2016</td>\n",
              "      <td>8.9</td>\n",
              "    </tr>\n",
              "    <tr>\n",
              "      <th>3</th>\n",
              "      <td>Afghanistan</td>\n",
              "      <td>2015-2017</td>\n",
              "      <td>9.7</td>\n",
              "    </tr>\n",
              "    <tr>\n",
              "      <th>4</th>\n",
              "      <td>Afghanistan</td>\n",
              "      <td>2016-2018</td>\n",
              "      <td>10.5</td>\n",
              "    </tr>\n",
              "  </tbody>\n",
              "</table>\n",
              "</div>"
            ],
            "text/plain": [
              "       country       year p/nutrition\n",
              "0  Afghanistan  2012-2014         8.6\n",
              "1  Afghanistan  2013-2015         8.8\n",
              "2  Afghanistan  2014-2016         8.9\n",
              "3  Afghanistan  2015-2017         9.7\n",
              "4  Afghanistan  2016-2018        10.5"
            ]
          },
          "execution_count": 1137,
          "metadata": {},
          "output_type": "execute_result"
        }
      ],
      "source": [
        "nutrition.head()\n"
      ]
    },
    {
      "cell_type": "code",
      "execution_count": null,
      "id": "70c1a7a9",
      "metadata": {
        "id": "70c1a7a9",
        "outputId": "fdd5d395-2df7-499f-e2cc-508a064409e4"
      },
      "outputs": [
        {
          "name": "stdout",
          "output_type": "stream",
          "text": [
            "<class 'pandas.core.frame.DataFrame'>\n",
            "RangeIndex: 1218 entries, 0 to 1217\n",
            "Data columns (total 3 columns):\n",
            " #   Column       Non-Null Count  Dtype \n",
            "---  ------       --------------  ----- \n",
            " 0   country      1218 non-null   object\n",
            " 1   year         1218 non-null   object\n",
            " 2   p/nutrition  624 non-null    object\n",
            "dtypes: object(3)\n",
            "memory usage: 28.7+ KB\n"
          ]
        }
      ],
      "source": [
        "nutrition.info()\n"
      ]
    },
    {
      "cell_type": "markdown",
      "id": "1ab803da",
      "metadata": {
        "id": "1ab803da"
      },
      "source": [
        "* change dtype of p/nutrition into int, year into int also chose mean year"
      ]
    },
    {
      "cell_type": "code",
      "execution_count": null,
      "id": "21267e96",
      "metadata": {
        "id": "21267e96",
        "outputId": "cd07f6ab-f303-45cb-ca82-2e82f8330e4d"
      },
      "outputs": [
        {
          "data": {
            "text/html": [
              "<div>\n",
              "<style scoped>\n",
              "    .dataframe tbody tr th:only-of-type {\n",
              "        vertical-align: middle;\n",
              "    }\n",
              "\n",
              "    .dataframe tbody tr th {\n",
              "        vertical-align: top;\n",
              "    }\n",
              "\n",
              "    .dataframe thead th {\n",
              "        text-align: right;\n",
              "    }\n",
              "</style>\n",
              "<table border=\"1\" class=\"dataframe\">\n",
              "  <thead>\n",
              "    <tr style=\"text-align: right;\">\n",
              "      <th></th>\n",
              "      <th>country</th>\n",
              "      <th>year</th>\n",
              "      <th>p/nutrition</th>\n",
              "    </tr>\n",
              "  </thead>\n",
              "  <tbody>\n",
              "    <tr>\n",
              "      <th>count</th>\n",
              "      <td>1218</td>\n",
              "      <td>1218</td>\n",
              "      <td>624</td>\n",
              "    </tr>\n",
              "    <tr>\n",
              "      <th>unique</th>\n",
              "      <td>203</td>\n",
              "      <td>6</td>\n",
              "      <td>139</td>\n",
              "    </tr>\n",
              "    <tr>\n",
              "      <th>top</th>\n",
              "      <td>Afghanistan</td>\n",
              "      <td>2012-2014</td>\n",
              "      <td>&lt;0.1</td>\n",
              "    </tr>\n",
              "    <tr>\n",
              "      <th>freq</th>\n",
              "      <td>6</td>\n",
              "      <td>203</td>\n",
              "      <td>120</td>\n",
              "    </tr>\n",
              "  </tbody>\n",
              "</table>\n",
              "</div>"
            ],
            "text/plain": [
              "            country       year p/nutrition\n",
              "count          1218       1218         624\n",
              "unique          203          6         139\n",
              "top     Afghanistan  2012-2014        <0.1\n",
              "freq              6        203         120"
            ]
          },
          "execution_count": 1139,
          "metadata": {},
          "output_type": "execute_result"
        }
      ],
      "source": [
        "nutrition.describe(include='all')"
      ]
    },
    {
      "cell_type": "markdown",
      "id": "63ec1298",
      "metadata": {
        "id": "63ec1298"
      },
      "source": [
        "* we have <0.1, i decide to change it to 0 to avoid error while manupilate of data"
      ]
    },
    {
      "cell_type": "code",
      "execution_count": null,
      "id": "11ff8923",
      "metadata": {
        "id": "11ff8923"
      },
      "outputs": [],
      "source": [
        "nutrition['p/nutrition'] = nutrition['p/nutrition'].replace(['<0.1'], 0)"
      ]
    },
    {
      "cell_type": "code",
      "execution_count": null,
      "id": "d9ec86df",
      "metadata": {
        "id": "d9ec86df"
      },
      "outputs": [],
      "source": [
        "# change dtype\n",
        "nutrition['p/nutrition'] = pd.to_numeric(nutrition['p/nutrition'])"
      ]
    },
    {
      "cell_type": "code",
      "execution_count": null,
      "id": "11b6a6c8",
      "metadata": {
        "id": "11b6a6c8"
      },
      "outputs": [],
      "source": [
        "# product personne who be nutrited to millions\n",
        "nutrition['p/nutrition'] = nutrition['p/nutrition'] * 1e6"
      ]
    },
    {
      "cell_type": "code",
      "execution_count": null,
      "id": "c278aa73",
      "metadata": {
        "id": "c278aa73"
      },
      "outputs": [],
      "source": [
        "nutrition = nutrition.fillna(0)"
      ]
    },
    {
      "cell_type": "code",
      "execution_count": null,
      "id": "c92b8a69",
      "metadata": {
        "id": "c92b8a69"
      },
      "outputs": [],
      "source": [
        "nutrition['p/nutrition'] = nutrition['p/nutrition'].astype(int)"
      ]
    },
    {
      "cell_type": "code",
      "execution_count": null,
      "id": "6d8ba125",
      "metadata": {
        "id": "6d8ba125"
      },
      "outputs": [],
      "source": [
        "nutrition['year'] = nutrition['year'].replace(['2012-2014'], 2013)\n",
        "nutrition['year'] = nutrition['year'].replace(['2013-2015'], 2014)\n",
        "nutrition['year'] = nutrition['year'].replace(['2014-2016'], 2015)\n",
        "nutrition['year'] = nutrition['year'].replace(['2015-2017'], 2016)\n",
        "nutrition['year'] = nutrition['year'].replace(['2016-2018'], 2017)"
      ]
    },
    {
      "cell_type": "code",
      "execution_count": null,
      "id": "58259b55",
      "metadata": {
        "id": "58259b55",
        "outputId": "28151acb-de61-4685-ccd2-31a9f1d5afd7"
      },
      "outputs": [
        {
          "data": {
            "text/html": [
              "<div>\n",
              "<style scoped>\n",
              "    .dataframe tbody tr th:only-of-type {\n",
              "        vertical-align: middle;\n",
              "    }\n",
              "\n",
              "    .dataframe tbody tr th {\n",
              "        vertical-align: top;\n",
              "    }\n",
              "\n",
              "    .dataframe thead th {\n",
              "        text-align: right;\n",
              "    }\n",
              "</style>\n",
              "<table border=\"1\" class=\"dataframe\">\n",
              "  <thead>\n",
              "    <tr style=\"text-align: right;\">\n",
              "      <th></th>\n",
              "      <th>country</th>\n",
              "      <th>year</th>\n",
              "      <th>p/nutrition</th>\n",
              "    </tr>\n",
              "  </thead>\n",
              "  <tbody>\n",
              "    <tr>\n",
              "      <th>0</th>\n",
              "      <td>Afghanistan</td>\n",
              "      <td>2013</td>\n",
              "      <td>8600000</td>\n",
              "    </tr>\n",
              "    <tr>\n",
              "      <th>1</th>\n",
              "      <td>Afghanistan</td>\n",
              "      <td>2014</td>\n",
              "      <td>8800000</td>\n",
              "    </tr>\n",
              "    <tr>\n",
              "      <th>2</th>\n",
              "      <td>Afghanistan</td>\n",
              "      <td>2015</td>\n",
              "      <td>8900000</td>\n",
              "    </tr>\n",
              "    <tr>\n",
              "      <th>3</th>\n",
              "      <td>Afghanistan</td>\n",
              "      <td>2016</td>\n",
              "      <td>9700000</td>\n",
              "    </tr>\n",
              "    <tr>\n",
              "      <th>4</th>\n",
              "      <td>Afghanistan</td>\n",
              "      <td>2017</td>\n",
              "      <td>10500000</td>\n",
              "    </tr>\n",
              "  </tbody>\n",
              "</table>\n",
              "</div>"
            ],
            "text/plain": [
              "       country  year  p/nutrition\n",
              "0  Afghanistan  2013      8600000\n",
              "1  Afghanistan  2014      8800000\n",
              "2  Afghanistan  2015      8900000\n",
              "3  Afghanistan  2016      9700000\n",
              "4  Afghanistan  2017     10500000"
            ]
          },
          "execution_count": 1146,
          "metadata": {},
          "output_type": "execute_result"
        }
      ],
      "source": [
        "nutrition.head()\n"
      ]
    },
    {
      "cell_type": "markdown",
      "id": "df6dcabd",
      "metadata": {
        "id": "df6dcabd"
      },
      "source": [
        "<div style=\"border: 1px solid RGB(0,150,250);\" >\n",
        "<h3 style=\"margin: auto; padding: 20px; color: RGB(0,150,250); \">3.1 - Number, Proportion pop who are undernourished in 2017</h3>\n",
        "</div>"
      ]
    },
    {
      "cell_type": "code",
      "execution_count": null,
      "id": "a63e1567",
      "metadata": {
        "id": "a63e1567"
      },
      "outputs": [],
      "source": [
        "pop_2017 = population.loc[population['year'] == 2017]\n",
        "pop_2017 = pop_2017.copy()"
      ]
    },
    {
      "cell_type": "code",
      "execution_count": null,
      "id": "948904de",
      "metadata": {
        "id": "948904de"
      },
      "outputs": [],
      "source": [
        "nutrition_2017 = nutrition.loc[nutrition['year'] == 2017]\n",
        "nutrition_2017 = nutrition_2017.copy()"
      ]
    },
    {
      "cell_type": "code",
      "execution_count": null,
      "id": "f3171dc7",
      "metadata": {
        "id": "f3171dc7"
      },
      "outputs": [],
      "source": [
        "# join df for 2017\n",
        "nut_pop2017 = pd.merge(pop_2017, nutrition_2017, on=('year', 'country'))\n",
        "nut_pop2017.drop('year',axis=1, inplace=True)"
      ]
    },
    {
      "cell_type": "code",
      "execution_count": null,
      "id": "7b29b43a",
      "metadata": {
        "id": "7b29b43a",
        "outputId": "2e96529d-b212-484f-ab0b-72081a1ce448"
      },
      "outputs": [
        {
          "data": {
            "text/html": [
              "<div>\n",
              "<style scoped>\n",
              "    .dataframe tbody tr th:only-of-type {\n",
              "        vertical-align: middle;\n",
              "    }\n",
              "\n",
              "    .dataframe tbody tr th {\n",
              "        vertical-align: top;\n",
              "    }\n",
              "\n",
              "    .dataframe thead th {\n",
              "        text-align: right;\n",
              "    }\n",
              "</style>\n",
              "<table border=\"1\" class=\"dataframe\">\n",
              "  <thead>\n",
              "    <tr style=\"text-align: right;\">\n",
              "      <th></th>\n",
              "      <th>country</th>\n",
              "      <th>Population</th>\n",
              "      <th>p/nutrition</th>\n",
              "    </tr>\n",
              "  </thead>\n",
              "  <tbody>\n",
              "    <tr>\n",
              "      <th>0</th>\n",
              "      <td>Afghanistan</td>\n",
              "      <td>36296113</td>\n",
              "      <td>10500000</td>\n",
              "    </tr>\n",
              "    <tr>\n",
              "      <th>1</th>\n",
              "      <td>Afrique du Sud</td>\n",
              "      <td>57009756</td>\n",
              "      <td>3100000</td>\n",
              "    </tr>\n",
              "    <tr>\n",
              "      <th>2</th>\n",
              "      <td>Albanie</td>\n",
              "      <td>2884169</td>\n",
              "      <td>100000</td>\n",
              "    </tr>\n",
              "    <tr>\n",
              "      <th>3</th>\n",
              "      <td>Algérie</td>\n",
              "      <td>41389189</td>\n",
              "      <td>1300000</td>\n",
              "    </tr>\n",
              "    <tr>\n",
              "      <th>4</th>\n",
              "      <td>Allemagne</td>\n",
              "      <td>82658409</td>\n",
              "      <td>0</td>\n",
              "    </tr>\n",
              "  </tbody>\n",
              "</table>\n",
              "</div>"
            ],
            "text/plain": [
              "          country  Population  p/nutrition\n",
              "0     Afghanistan    36296113     10500000\n",
              "1  Afrique du Sud    57009756      3100000\n",
              "2         Albanie     2884169       100000\n",
              "3         Algérie    41389189      1300000\n",
              "4       Allemagne    82658409            0"
            ]
          },
          "execution_count": 1150,
          "metadata": {},
          "output_type": "execute_result"
        }
      ],
      "source": [
        "nut_pop2017.head()"
      ]
    },
    {
      "cell_type": "code",
      "execution_count": null,
      "id": "28e2741f",
      "metadata": {
        "id": "28e2741f"
      },
      "outputs": [],
      "source": [
        "total_pop_nut = nut_pop2017.Population.sum()"
      ]
    },
    {
      "cell_type": "code",
      "execution_count": null,
      "id": "ded77df9",
      "metadata": {
        "id": "ded77df9",
        "outputId": "2f050807-4cc6-4b42-aef9-746fc6a78d38"
      },
      "outputs": [
        {
          "name": "stdout",
          "output_type": "stream",
          "text": [
            "the number of total population who be nutrited 7.54 millard\n"
          ]
        }
      ],
      "source": [
        "print(\"the number of total population who be nutrited {}\".format((total_pop_nut/1e9).round(2)), 'millard')"
      ]
    },
    {
      "cell_type": "code",
      "execution_count": null,
      "id": "58aa82a8",
      "metadata": {
        "id": "58aa82a8",
        "outputId": "5f5a0e21-faa8-4c01-ef1e-af1eb7ff3a54"
      },
      "outputs": [
        {
          "name": "stdout",
          "output_type": "stream",
          "text": [
            "The proportion of the world population being undernourished in 2017 is : 7.1 %\n"
          ]
        }
      ],
      "source": [
        "prop_pop_nut =  nut_pop2017['p/nutrition'].sum()/ total_pop_nut * 100\n",
        "print(\"The proportion of the world population being undernourished in 2017 is : {}\".format((prop_pop_nut).round(2)), '%')"
      ]
    },
    {
      "cell_type": "markdown",
      "id": "b4134a24",
      "metadata": {
        "id": "b4134a24"
      },
      "source": [
        "<div style=\"border: 1px solid RGB(0,150,250);\" >\n",
        "<h3 style=\"margin: auto; padding: 20px; color: RGB(0,150,250); \">3.2 -Theoretical number of people who could be fed in 2017</h3>\n",
        "</div>"
      ]
    },
    {
      "cell_type": "markdown",
      "id": "d20f6463",
      "metadata": {
        "id": "d20f6463"
      },
      "source": [
        "* how many calories take by person is 2500 kcal source : https://www.healthhub.sg/live-healthy/how-much-to-eat-at-each-meal"
      ]
    },
    {
      "cell_type": "code",
      "execution_count": null,
      "id": "5e3f262d",
      "metadata": {
        "id": "5e3f262d",
        "outputId": "ffb66ec6-e953-4fa1-a781-69eefa9802eb"
      },
      "outputs": [
        {
          "data": {
            "text/html": [
              "<div>\n",
              "<style scoped>\n",
              "    .dataframe tbody tr th:only-of-type {\n",
              "        vertical-align: middle;\n",
              "    }\n",
              "\n",
              "    .dataframe tbody tr th {\n",
              "        vertical-align: top;\n",
              "    }\n",
              "\n",
              "    .dataframe thead th {\n",
              "        text-align: right;\n",
              "    }\n",
              "</style>\n",
              "<table border=\"1\" class=\"dataframe\">\n",
              "  <thead>\n",
              "    <tr style=\"text-align: right;\">\n",
              "      <th></th>\n",
              "      <th>country</th>\n",
              "      <th>Dispo(kg/p/y)</th>\n",
              "      <th>Dispo(Kcal/p/y)</th>\n",
              "    </tr>\n",
              "  </thead>\n",
              "  <tbody>\n",
              "    <tr>\n",
              "      <th>0</th>\n",
              "      <td>Afghanistan</td>\n",
              "      <td>1.72</td>\n",
              "      <td>1825.0</td>\n",
              "    </tr>\n",
              "    <tr>\n",
              "      <th>1</th>\n",
              "      <td>Afghanistan</td>\n",
              "      <td>1.29</td>\n",
              "      <td>365.0</td>\n",
              "    </tr>\n",
              "    <tr>\n",
              "      <th>2</th>\n",
              "      <td>Afghanistan</td>\n",
              "      <td>0.06</td>\n",
              "      <td>365.0</td>\n",
              "    </tr>\n",
              "    <tr>\n",
              "      <th>3</th>\n",
              "      <td>Afghanistan</td>\n",
              "      <td>0.00</td>\n",
              "      <td>0.0</td>\n",
              "    </tr>\n",
              "    <tr>\n",
              "      <th>4</th>\n",
              "      <td>Afghanistan</td>\n",
              "      <td>2.70</td>\n",
              "      <td>1460.0</td>\n",
              "    </tr>\n",
              "  </tbody>\n",
              "</table>\n",
              "</div>"
            ],
            "text/plain": [
              "       country  Dispo(kg/p/y)  Dispo(Kcal/p/y)\n",
              "0  Afghanistan           1.72           1825.0\n",
              "1  Afghanistan           1.29            365.0\n",
              "2  Afghanistan           0.06            365.0\n",
              "3  Afghanistan           0.00              0.0\n",
              "4  Afghanistan           2.70           1460.0"
            ]
          },
          "execution_count": 1154,
          "metadata": {},
          "output_type": "execute_result"
        }
      ],
      "source": [
        "# we take disponability by kcal, kg by person\n",
        "dispo_person_2017 = disponibility[['country','Dispo(Kcal/p/d)', 'Dispo(kg/p/y)']]\n",
        "dispo_person_2017 = dispo_person_2017.copy()\n",
        "dispo_person_2017['Dispo(Kcal/p/y)'] = dispo_person_2017['Dispo(Kcal/p/d)'] * 365 # day to year\n",
        "dispo_person_2017.drop('Dispo(Kcal/p/d)',axis=1, inplace=True)\n",
        "dispo_person_2017.head()"
      ]
    },
    {
      "cell_type": "code",
      "execution_count": null,
      "id": "4538126c",
      "metadata": {
        "id": "4538126c"
      },
      "outputs": [],
      "source": [
        "dispo_alim_country = dispo_person_2017[['country','Dispo(Kcal/p/y)']]\n",
        "dispo_alim_country = dispo_alim_country.groupby(['country']).sum()"
      ]
    },
    {
      "cell_type": "code",
      "execution_count": null,
      "id": "17d177e7",
      "metadata": {
        "id": "17d177e7",
        "outputId": "2d955e74-45cf-484e-a4bc-5900f6f2dc63"
      },
      "outputs": [
        {
          "data": {
            "text/html": [
              "<div>\n",
              "<style scoped>\n",
              "    .dataframe tbody tr th:only-of-type {\n",
              "        vertical-align: middle;\n",
              "    }\n",
              "\n",
              "    .dataframe tbody tr th {\n",
              "        vertical-align: top;\n",
              "    }\n",
              "\n",
              "    .dataframe thead th {\n",
              "        text-align: right;\n",
              "    }\n",
              "</style>\n",
              "<table border=\"1\" class=\"dataframe\">\n",
              "  <thead>\n",
              "    <tr style=\"text-align: right;\">\n",
              "      <th></th>\n",
              "      <th>Dispo(Kcal/p/y)</th>\n",
              "    </tr>\n",
              "    <tr>\n",
              "      <th>country</th>\n",
              "      <th></th>\n",
              "    </tr>\n",
              "  </thead>\n",
              "  <tbody>\n",
              "    <tr>\n",
              "      <th>Afghanistan</th>\n",
              "      <td>761755.0</td>\n",
              "    </tr>\n",
              "    <tr>\n",
              "      <th>Afrique du Sud</th>\n",
              "      <td>1102300.0</td>\n",
              "    </tr>\n",
              "    <tr>\n",
              "      <th>Albanie</th>\n",
              "      <td>1163620.0</td>\n",
              "    </tr>\n",
              "    <tr>\n",
              "      <th>Algérie</th>\n",
              "      <td>1201945.0</td>\n",
              "    </tr>\n",
              "    <tr>\n",
              "      <th>Allemagne</th>\n",
              "      <td>1278595.0</td>\n",
              "    </tr>\n",
              "  </tbody>\n",
              "</table>\n",
              "</div>"
            ],
            "text/plain": [
              "                Dispo(Kcal/p/y)\n",
              "country                        \n",
              "Afghanistan            761755.0\n",
              "Afrique du Sud        1102300.0\n",
              "Albanie               1163620.0\n",
              "Algérie               1201945.0\n",
              "Allemagne             1278595.0"
            ]
          },
          "execution_count": 1156,
          "metadata": {},
          "output_type": "execute_result"
        }
      ],
      "source": [
        "dispo_alim_country.head()"
      ]
    },
    {
      "cell_type": "code",
      "execution_count": null,
      "id": "0c1c7333",
      "metadata": {
        "id": "0c1c7333",
        "outputId": "7485080b-de5f-40e7-93d1-9ca58a9ebd0b"
      },
      "outputs": [
        {
          "data": {
            "text/html": [
              "<div>\n",
              "<style scoped>\n",
              "    .dataframe tbody tr th:only-of-type {\n",
              "        vertical-align: middle;\n",
              "    }\n",
              "\n",
              "    .dataframe tbody tr th {\n",
              "        vertical-align: top;\n",
              "    }\n",
              "\n",
              "    .dataframe thead th {\n",
              "        text-align: right;\n",
              "    }\n",
              "</style>\n",
              "<table border=\"1\" class=\"dataframe\">\n",
              "  <thead>\n",
              "    <tr style=\"text-align: right;\">\n",
              "      <th></th>\n",
              "      <th>country</th>\n",
              "      <th>Dispo(Kcal/p/y)</th>\n",
              "      <th>Population</th>\n",
              "    </tr>\n",
              "  </thead>\n",
              "  <tbody>\n",
              "    <tr>\n",
              "      <th>0</th>\n",
              "      <td>Afghanistan</td>\n",
              "      <td>761755.0</td>\n",
              "      <td>36296113</td>\n",
              "    </tr>\n",
              "    <tr>\n",
              "      <th>1</th>\n",
              "      <td>Afrique du Sud</td>\n",
              "      <td>1102300.0</td>\n",
              "      <td>57009756</td>\n",
              "    </tr>\n",
              "    <tr>\n",
              "      <th>2</th>\n",
              "      <td>Albanie</td>\n",
              "      <td>1163620.0</td>\n",
              "      <td>2884169</td>\n",
              "    </tr>\n",
              "    <tr>\n",
              "      <th>3</th>\n",
              "      <td>Algérie</td>\n",
              "      <td>1201945.0</td>\n",
              "      <td>41389189</td>\n",
              "    </tr>\n",
              "    <tr>\n",
              "      <th>4</th>\n",
              "      <td>Allemagne</td>\n",
              "      <td>1278595.0</td>\n",
              "      <td>82658409</td>\n",
              "    </tr>\n",
              "  </tbody>\n",
              "</table>\n",
              "</div>"
            ],
            "text/plain": [
              "          country  Dispo(Kcal/p/y)  Population\n",
              "0     Afghanistan         761755.0    36296113\n",
              "1  Afrique du Sud        1102300.0    57009756\n",
              "2         Albanie        1163620.0     2884169\n",
              "3         Algérie        1201945.0    41389189\n",
              "4       Allemagne        1278595.0    82658409"
            ]
          },
          "execution_count": 1157,
          "metadata": {},
          "output_type": "execute_result"
        }
      ],
      "source": [
        "dispo_kcal_pop17 = pd.merge(dispo_alim_country, pop_2017, on = ('country'))\n",
        "dispo_kcal_pop17 = dispo_kcal_pop17.drop(['year'], axis=1)\n",
        "dispo_kcal_pop17.head()"
      ]
    },
    {
      "cell_type": "code",
      "execution_count": null,
      "id": "5305ba25",
      "metadata": {
        "id": "5305ba25",
        "outputId": "35f944bc-ea8f-4838-8bd5-207e656d0360"
      },
      "outputs": [
        {
          "name": "stdout",
          "output_type": "stream",
          "text": [
            "the alimentary disponibility in the world in 2017 is :  7635429382287555.0  Kcal.\n"
          ]
        }
      ],
      "source": [
        "#Calculate alimentary disponibility in the world in 2017\n",
        "diso_alim_2017 = ((dispo_kcal_pop17['Dispo(Kcal/p/y)']) * (dispo_kcal_pop17['Population'])).sum()\n",
        "print(\"the alimentary disponibility in the world in 2017 is : \",diso_alim_2017,\" Kcal.\")\n"
      ]
    },
    {
      "cell_type": "code",
      "execution_count": null,
      "id": "a6d4af90",
      "metadata": {
        "id": "a6d4af90",
        "outputId": "9bdc7191-7434-44f8-a58e-1ffe38da815f"
      },
      "outputs": [
        {
          "name": "stdout",
          "output_type": "stream",
          "text": [
            "in 2017 we can feed 8579134137.0 persons\n"
          ]
        }
      ],
      "source": [
        "#possible hman to be nutrited is : disponability in ther year /what every person need per year\n",
        "kcal_needed = 2500 * 356  # = 890000 kcal per year\n",
        "possible_human_nutrited = (diso_alim_2017 /kcal_needed).round(0)\n",
        "print('in 2017 we can feed',possible_human_nutrited, 'persons')"
      ]
    },
    {
      "cell_type": "markdown",
      "id": "e97c8886",
      "metadata": {
        "id": "e97c8886"
      },
      "source": [
        "<div style=\"border: 1px solid RGB(0,150,250);\" >\n",
        "<h3 style=\"margin: auto; padding: 20px; color: RGB(0,150,250); \">3.3 - Theoretical number of people who could be fed with vegetable products</h3>\n",
        "</div>"
      ]
    },
    {
      "cell_type": "code",
      "execution_count": null,
      "id": "c2e3c87c",
      "metadata": {
        "id": "c2e3c87c",
        "outputId": "1757fbb2-a070-4ccc-84e9-7a51ffcaeb8c"
      },
      "outputs": [
        {
          "data": {
            "text/html": [
              "<div>\n",
              "<style scoped>\n",
              "    .dataframe tbody tr th:only-of-type {\n",
              "        vertical-align: middle;\n",
              "    }\n",
              "\n",
              "    .dataframe tbody tr th {\n",
              "        vertical-align: top;\n",
              "    }\n",
              "\n",
              "    .dataframe thead th {\n",
              "        text-align: right;\n",
              "    }\n",
              "</style>\n",
              "<table border=\"1\" class=\"dataframe\">\n",
              "  <thead>\n",
              "    <tr style=\"text-align: right;\">\n",
              "      <th></th>\n",
              "      <th>country</th>\n",
              "      <th>product</th>\n",
              "      <th>Dispo(Kcal/p/d)</th>\n",
              "      <th>Dispo(Kcal/p/y)</th>\n",
              "    </tr>\n",
              "  </thead>\n",
              "  <tbody>\n",
              "    <tr>\n",
              "      <th>1</th>\n",
              "      <td>Afghanistan</td>\n",
              "      <td>Agrumes, Autres</td>\n",
              "      <td>1.0</td>\n",
              "      <td>356.0</td>\n",
              "    </tr>\n",
              "    <tr>\n",
              "      <th>2</th>\n",
              "      <td>Afghanistan</td>\n",
              "      <td>Aliments pour enfants</td>\n",
              "      <td>1.0</td>\n",
              "      <td>356.0</td>\n",
              "    </tr>\n",
              "    <tr>\n",
              "      <th>3</th>\n",
              "      <td>Afghanistan</td>\n",
              "      <td>Ananas</td>\n",
              "      <td>0.0</td>\n",
              "      <td>0.0</td>\n",
              "    </tr>\n",
              "    <tr>\n",
              "      <th>4</th>\n",
              "      <td>Afghanistan</td>\n",
              "      <td>Bananes</td>\n",
              "      <td>4.0</td>\n",
              "      <td>1424.0</td>\n",
              "    </tr>\n",
              "    <tr>\n",
              "      <th>6</th>\n",
              "      <td>Afghanistan</td>\n",
              "      <td>Bière</td>\n",
              "      <td>0.0</td>\n",
              "      <td>0.0</td>\n",
              "    </tr>\n",
              "  </tbody>\n",
              "</table>\n",
              "</div>"
            ],
            "text/plain": [
              "       country                product  Dispo(Kcal/p/d)  Dispo(Kcal/p/y)\n",
              "1  Afghanistan        Agrumes, Autres              1.0            356.0\n",
              "2  Afghanistan  Aliments pour enfants              1.0            356.0\n",
              "3  Afghanistan                 Ananas              0.0              0.0\n",
              "4  Afghanistan                Bananes              4.0           1424.0\n",
              "6  Afghanistan                  Bière              0.0              0.0"
            ]
          },
          "execution_count": 1160,
          "metadata": {},
          "output_type": "execute_result"
        }
      ],
      "source": [
        "#selec features and only vegetable origin\n",
        "dispo_alim_veg = disponibility[['country','product','Origin','Dispo(Kcal/p/d)']]\n",
        "dispo_alim_veg = dispo_alim_veg.copy()\n",
        "dispo_alim_veg['Dispo(Kcal/p/y)'] = dispo_alim_veg['Dispo(Kcal/p/d)'] * 356\n",
        "dispo_alim_veg = dispo_alim_veg.loc[dispo_alim_veg.Origin == 'vegetale']\n",
        "dispo_alim_veg.drop('Origin',axis=1, inplace=True)\n",
        "\n",
        "dispo_alim_veg.head()"
      ]
    },
    {
      "cell_type": "code",
      "execution_count": null,
      "id": "c6dc10cd",
      "metadata": {
        "id": "c6dc10cd",
        "outputId": "6dad8cdb-16b1-491c-805d-1bb1b4a6b2d4"
      },
      "outputs": [
        {
          "data": {
            "text/html": [
              "<div>\n",
              "<style scoped>\n",
              "    .dataframe tbody tr th:only-of-type {\n",
              "        vertical-align: middle;\n",
              "    }\n",
              "\n",
              "    .dataframe tbody tr th {\n",
              "        vertical-align: top;\n",
              "    }\n",
              "\n",
              "    .dataframe thead th {\n",
              "        text-align: right;\n",
              "    }\n",
              "</style>\n",
              "<table border=\"1\" class=\"dataframe\">\n",
              "  <thead>\n",
              "    <tr style=\"text-align: right;\">\n",
              "      <th></th>\n",
              "      <th>country</th>\n",
              "      <th>product</th>\n",
              "      <th>Dispo(Kcal/p/d)</th>\n",
              "      <th>Dispo(Kcal/p/y)</th>\n",
              "      <th>year</th>\n",
              "      <th>Population</th>\n",
              "    </tr>\n",
              "  </thead>\n",
              "  <tbody>\n",
              "    <tr>\n",
              "      <th>0</th>\n",
              "      <td>Afghanistan</td>\n",
              "      <td>Agrumes, Autres</td>\n",
              "      <td>1.0</td>\n",
              "      <td>356.0</td>\n",
              "      <td>2017</td>\n",
              "      <td>36296113</td>\n",
              "    </tr>\n",
              "    <tr>\n",
              "      <th>1</th>\n",
              "      <td>Afghanistan</td>\n",
              "      <td>Aliments pour enfants</td>\n",
              "      <td>1.0</td>\n",
              "      <td>356.0</td>\n",
              "      <td>2017</td>\n",
              "      <td>36296113</td>\n",
              "    </tr>\n",
              "    <tr>\n",
              "      <th>2</th>\n",
              "      <td>Afghanistan</td>\n",
              "      <td>Ananas</td>\n",
              "      <td>0.0</td>\n",
              "      <td>0.0</td>\n",
              "      <td>2017</td>\n",
              "      <td>36296113</td>\n",
              "    </tr>\n",
              "    <tr>\n",
              "      <th>3</th>\n",
              "      <td>Afghanistan</td>\n",
              "      <td>Bananes</td>\n",
              "      <td>4.0</td>\n",
              "      <td>1424.0</td>\n",
              "      <td>2017</td>\n",
              "      <td>36296113</td>\n",
              "    </tr>\n",
              "    <tr>\n",
              "      <th>4</th>\n",
              "      <td>Afghanistan</td>\n",
              "      <td>Bière</td>\n",
              "      <td>0.0</td>\n",
              "      <td>0.0</td>\n",
              "      <td>2017</td>\n",
              "      <td>36296113</td>\n",
              "    </tr>\n",
              "    <tr>\n",
              "      <th>...</th>\n",
              "      <td>...</td>\n",
              "      <td>...</td>\n",
              "      <td>...</td>\n",
              "      <td>...</td>\n",
              "      <td>...</td>\n",
              "      <td>...</td>\n",
              "    </tr>\n",
              "    <tr>\n",
              "      <th>11746</th>\n",
              "      <td>Îles Salomon</td>\n",
              "      <td>Sésame</td>\n",
              "      <td>0.0</td>\n",
              "      <td>0.0</td>\n",
              "      <td>2017</td>\n",
              "      <td>636039</td>\n",
              "    </tr>\n",
              "    <tr>\n",
              "      <th>11747</th>\n",
              "      <td>Îles Salomon</td>\n",
              "      <td>Thé</td>\n",
              "      <td>0.0</td>\n",
              "      <td>0.0</td>\n",
              "      <td>2017</td>\n",
              "      <td>636039</td>\n",
              "    </tr>\n",
              "    <tr>\n",
              "      <th>11748</th>\n",
              "      <td>Îles Salomon</td>\n",
              "      <td>Tomates</td>\n",
              "      <td>0.0</td>\n",
              "      <td>0.0</td>\n",
              "      <td>2017</td>\n",
              "      <td>636039</td>\n",
              "    </tr>\n",
              "    <tr>\n",
              "      <th>11749</th>\n",
              "      <td>Îles Salomon</td>\n",
              "      <td>Vin</td>\n",
              "      <td>0.0</td>\n",
              "      <td>0.0</td>\n",
              "      <td>2017</td>\n",
              "      <td>636039</td>\n",
              "    </tr>\n",
              "    <tr>\n",
              "      <th>11750</th>\n",
              "      <td>Îles Salomon</td>\n",
              "      <td>Épices, Autres</td>\n",
              "      <td>4.0</td>\n",
              "      <td>1424.0</td>\n",
              "      <td>2017</td>\n",
              "      <td>636039</td>\n",
              "    </tr>\n",
              "  </tbody>\n",
              "</table>\n",
              "<p>11751 rows × 6 columns</p>\n",
              "</div>"
            ],
            "text/plain": [
              "            country                product  Dispo(Kcal/p/d)  Dispo(Kcal/p/y)  \\\n",
              "0       Afghanistan        Agrumes, Autres              1.0            356.0   \n",
              "1       Afghanistan  Aliments pour enfants              1.0            356.0   \n",
              "2       Afghanistan                 Ananas              0.0              0.0   \n",
              "3       Afghanistan                Bananes              4.0           1424.0   \n",
              "4       Afghanistan                  Bière              0.0              0.0   \n",
              "...             ...                    ...              ...              ...   \n",
              "11746  Îles Salomon                 Sésame              0.0              0.0   \n",
              "11747  Îles Salomon                    Thé              0.0              0.0   \n",
              "11748  Îles Salomon                Tomates              0.0              0.0   \n",
              "11749  Îles Salomon                    Vin              0.0              0.0   \n",
              "11750  Îles Salomon         Épices, Autres              4.0           1424.0   \n",
              "\n",
              "       year  Population  \n",
              "0      2017    36296113  \n",
              "1      2017    36296113  \n",
              "2      2017    36296113  \n",
              "3      2017    36296113  \n",
              "4      2017    36296113  \n",
              "...     ...         ...  \n",
              "11746  2017      636039  \n",
              "11747  2017      636039  \n",
              "11748  2017      636039  \n",
              "11749  2017      636039  \n",
              "11750  2017      636039  \n",
              "\n",
              "[11751 rows x 6 columns]"
            ]
          },
          "execution_count": 1161,
          "metadata": {},
          "output_type": "execute_result"
        }
      ],
      "source": [
        "pop_dispo_alim_veg = pd.merge(dispo_alim_veg, pop_2017, how = 'inner', on= ('country'))\n",
        "pop_dispo_alim_veg"
      ]
    },
    {
      "cell_type": "code",
      "execution_count": null,
      "id": "12a787b8",
      "metadata": {
        "id": "12a787b8",
        "outputId": "48dd3200-fb5d-41cd-81a5-a113a632cedd"
      },
      "outputs": [
        {
          "name": "stdout",
          "output_type": "stream",
          "text": [
            "the disponability of vegetable products in the world in 2017 is :  6300178932059760.0 Kcal\n"
          ]
        }
      ],
      "source": [
        "total_dispo_veg = pop_dispo_alim_veg['Dispo(Kcal/p/d)'] * pop_dispo_alim_veg['Population']* 365\n",
        "print('the disponability of vegetable products in the world in 2017 is : ', total_dispo_veg.sum(), 'Kcal')"
      ]
    },
    {
      "cell_type": "code",
      "execution_count": null,
      "id": "534f3ad7",
      "metadata": {
        "id": "534f3ad7",
        "outputId": "fe114b4d-51c3-4598-ae84-dac7ff6325f2"
      },
      "outputs": [
        {
          "name": "stdout",
          "output_type": "stream",
          "text": [
            "propurtion human can be nutrited with vegetable products is : 93.84 %\n",
            "the number of human can be nutrited by vegetable product is :  7078852733.0 person\n"
          ]
        }
      ],
      "source": [
        "#Calculate humans can be nutrited by vegetable product\n",
        "dispo_vege_pers = total_dispo_veg.sum() / kcal_needed\n",
        "prop_human_nutrited_vegetable = (dispo_vege_pers * 100/ total_pop_nut)\n",
        "\n",
        "print('propurtion human can be nutrited with vegetable products is :', prop_human_nutrited_vegetable.round(2), '%')\n",
        "print('the number of human can be nutrited by vegetable product is : ',dispo_vege_pers.round(0), 'person' )"
      ]
    },
    {
      "cell_type": "markdown",
      "id": "cd07afb1",
      "metadata": {
        "id": "cd07afb1"
      },
      "source": [
        "<div style=\"border: 1px solid RGB(0,150,250);\" >\n",
        "<h3 style=\"margin: auto; padding: 20px; color: RGB(0,150,250); \">3.4 - Using domestic availability</h3>\n",
        "</div>"
      ]
    },
    {
      "cell_type": "code",
      "execution_count": null,
      "id": "f9e9a62f",
      "metadata": {
        "id": "f9e9a62f",
        "outputId": "bf8874bd-abcd-4c72-f07c-7afcfcb26cf2"
      },
      "outputs": [
        {
          "data": {
            "text/html": [
              "<div>\n",
              "<style scoped>\n",
              "    .dataframe tbody tr th:only-of-type {\n",
              "        vertical-align: middle;\n",
              "    }\n",
              "\n",
              "    .dataframe tbody tr th {\n",
              "        vertical-align: top;\n",
              "    }\n",
              "\n",
              "    .dataframe thead th {\n",
              "        text-align: right;\n",
              "    }\n",
              "</style>\n",
              "<table border=\"1\" class=\"dataframe\">\n",
              "  <thead>\n",
              "    <tr style=\"text-align: right;\">\n",
              "      <th></th>\n",
              "      <th>country</th>\n",
              "      <th>product</th>\n",
              "      <th>Origin</th>\n",
              "      <th>for animals</th>\n",
              "      <th>other use</th>\n",
              "      <th>Dispo(Kcal/p/d)</th>\n",
              "      <th>Dispo(kg/p/y)</th>\n",
              "      <th>Dispo grasse(g/p/d)</th>\n",
              "      <th>Dispo protein (g/p/d)</th>\n",
              "      <th>domastic</th>\n",
              "      <th>Exportations</th>\n",
              "      <th>Importations</th>\n",
              "      <th>nutrition</th>\n",
              "      <th>Production</th>\n",
              "    </tr>\n",
              "  </thead>\n",
              "  <tbody>\n",
              "    <tr>\n",
              "      <th>0</th>\n",
              "      <td>Afghanistan</td>\n",
              "      <td>Abats Comestible</td>\n",
              "      <td>animale</td>\n",
              "      <td>0.0</td>\n",
              "      <td>0.0</td>\n",
              "      <td>5.0</td>\n",
              "      <td>1.72</td>\n",
              "      <td>0.20</td>\n",
              "      <td>0.77</td>\n",
              "      <td>53.0</td>\n",
              "      <td>0.0</td>\n",
              "      <td>0.0</td>\n",
              "      <td>53.0</td>\n",
              "      <td>53.0</td>\n",
              "    </tr>\n",
              "    <tr>\n",
              "      <th>1</th>\n",
              "      <td>Afghanistan</td>\n",
              "      <td>Agrumes, Autres</td>\n",
              "      <td>vegetale</td>\n",
              "      <td>0.0</td>\n",
              "      <td>0.0</td>\n",
              "      <td>1.0</td>\n",
              "      <td>1.29</td>\n",
              "      <td>0.01</td>\n",
              "      <td>0.02</td>\n",
              "      <td>41.0</td>\n",
              "      <td>2.0</td>\n",
              "      <td>40.0</td>\n",
              "      <td>39.0</td>\n",
              "      <td>3.0</td>\n",
              "    </tr>\n",
              "    <tr>\n",
              "      <th>2</th>\n",
              "      <td>Afghanistan</td>\n",
              "      <td>Aliments pour enfants</td>\n",
              "      <td>vegetale</td>\n",
              "      <td>0.0</td>\n",
              "      <td>0.0</td>\n",
              "      <td>1.0</td>\n",
              "      <td>0.06</td>\n",
              "      <td>0.01</td>\n",
              "      <td>0.03</td>\n",
              "      <td>2.0</td>\n",
              "      <td>0.0</td>\n",
              "      <td>2.0</td>\n",
              "      <td>2.0</td>\n",
              "      <td>0.0</td>\n",
              "    </tr>\n",
              "    <tr>\n",
              "      <th>3</th>\n",
              "      <td>Afghanistan</td>\n",
              "      <td>Ananas</td>\n",
              "      <td>vegetale</td>\n",
              "      <td>0.0</td>\n",
              "      <td>0.0</td>\n",
              "      <td>0.0</td>\n",
              "      <td>0.00</td>\n",
              "      <td>0.00</td>\n",
              "      <td>0.00</td>\n",
              "      <td>0.0</td>\n",
              "      <td>0.0</td>\n",
              "      <td>0.0</td>\n",
              "      <td>0.0</td>\n",
              "      <td>0.0</td>\n",
              "    </tr>\n",
              "    <tr>\n",
              "      <th>4</th>\n",
              "      <td>Afghanistan</td>\n",
              "      <td>Bananes</td>\n",
              "      <td>vegetale</td>\n",
              "      <td>0.0</td>\n",
              "      <td>0.0</td>\n",
              "      <td>4.0</td>\n",
              "      <td>2.70</td>\n",
              "      <td>0.02</td>\n",
              "      <td>0.05</td>\n",
              "      <td>82.0</td>\n",
              "      <td>0.0</td>\n",
              "      <td>82.0</td>\n",
              "      <td>82.0</td>\n",
              "      <td>0.0</td>\n",
              "    </tr>\n",
              "  </tbody>\n",
              "</table>\n",
              "</div>"
            ],
            "text/plain": [
              "       country                product    Origin  for animals  other use  \\\n",
              "0  Afghanistan       Abats Comestible   animale          0.0        0.0   \n",
              "1  Afghanistan        Agrumes, Autres  vegetale          0.0        0.0   \n",
              "2  Afghanistan  Aliments pour enfants  vegetale          0.0        0.0   \n",
              "3  Afghanistan                 Ananas  vegetale          0.0        0.0   \n",
              "4  Afghanistan                Bananes  vegetale          0.0        0.0   \n",
              "\n",
              "   Dispo(Kcal/p/d)  Dispo(kg/p/y)  Dispo grasse(g/p/d)  Dispo protein (g/p/d)  \\\n",
              "0              5.0           1.72                 0.20                   0.77   \n",
              "1              1.0           1.29                 0.01                   0.02   \n",
              "2              1.0           0.06                 0.01                   0.03   \n",
              "3              0.0           0.00                 0.00                   0.00   \n",
              "4              4.0           2.70                 0.02                   0.05   \n",
              "\n",
              "   domastic  Exportations  Importations  nutrition  Production  \n",
              "0      53.0           0.0           0.0       53.0        53.0  \n",
              "1      41.0           2.0          40.0       39.0         3.0  \n",
              "2       2.0           0.0           2.0        2.0         0.0  \n",
              "3       0.0           0.0           0.0        0.0         0.0  \n",
              "4      82.0           0.0          82.0       82.0         0.0  "
            ]
          },
          "execution_count": 1186,
          "metadata": {},
          "output_type": "execute_result"
        }
      ],
      "source": [
        "disponibility.head()"
      ]
    },
    {
      "cell_type": "code",
      "execution_count": null,
      "id": "057ea461",
      "metadata": {
        "id": "057ea461",
        "outputId": "d2fb7cdf-bb01-41b5-c2f9-c20aa44019b9"
      },
      "outputs": [
        {
          "name": "stdout",
          "output_type": "stream",
          "text": [
            "The Proportion of global domestic availability that is attributed to animal feed is :  13.2 %\n"
          ]
        }
      ],
      "source": [
        "# 1.Proportion of animal feed :\n",
        "prop_alim_animal = (disponibility[\"for animals\"].sum()/disponibility[\"domastic\"].sum()*100).round(1)\n",
        "print(\"The Proportion of global domestic availability that is attributed to animal feed is : \",prop_alim_animal, \"%\")"
      ]
    },
    {
      "cell_type": "code",
      "execution_count": null,
      "id": "05ae1027",
      "metadata": {
        "id": "05ae1027",
        "outputId": "e492a689-4f03-47ea-a57d-c1d187fbb3be"
      },
      "outputs": [
        {
          "name": "stdout",
          "output_type": "stream",
          "text": [
            "The Proportion of global domestic availability that is attributed to human feed is :  49.5 %\n"
          ]
        }
      ],
      "source": [
        "# 2. Proportion alimentation humaine :\n",
        "prop_alim_humaine = (disponibility[\"nutrition\"].sum() /disponibility[\"domastic\"].sum()*100).round(1)\n",
        "print(\"The Proportion of global domestic availability that is attributed to human feed is : \",prop_alim_humaine, \"%\")"
      ]
    },
    {
      "cell_type": "code",
      "execution_count": null,
      "id": "a4eccc76",
      "metadata": {
        "id": "a4eccc76",
        "outputId": "a31c7ffc-d7fb-452a-f250-532ccad908fe"
      },
      "outputs": [
        {
          "name": "stdout",
          "output_type": "stream",
          "text": [
            "The Proportion of global domestic availability that is attributed to other use is :  8.8 %\n"
          ]
        }
      ],
      "source": [
        "# 3. Proportion alimentation other use:\n",
        "prop_alim_autre = (disponibility[\"other use\"].sum() /disponibility[\"domastic\"].sum()*100).round(1)\n",
        "print(\"The Proportion of global domestic availability that is attributed to other use is : \",prop_alim_autre, \"%\")"
      ]
    },
    {
      "cell_type": "code",
      "execution_count": null,
      "id": "fdb57507",
      "metadata": {
        "id": "fdb57507",
        "outputId": "445a2011-7dda-405b-b0b4-3a928550a46f"
      },
      "outputs": [
        {
          "name": "stdout",
          "output_type": "stream",
          "text": [
            "The Proportion of global domestic availability that is attributed to Exportations use is :  13.73 %\n"
          ]
        }
      ],
      "source": [
        "# 4.Proportion alimentation Exportations :\n",
        "prop_alim_exp = (disponibility[\"Exportations\"].sum() /disponibility[\"domastic\"].sum()*100).round(2)\n",
        "print(\"The Proportion of global domestic availability that is attributed to Exportations use is : \",prop_alim_exp, \"%\")"
      ]
    },
    {
      "cell_type": "code",
      "execution_count": null,
      "id": "41610ec8",
      "metadata": {
        "id": "41610ec8",
        "outputId": "52afecaf-1fce-4d7c-cc5c-051634b2255c"
      },
      "outputs": [
        {
          "name": "stdout",
          "output_type": "stream",
          "text": [
            "The Proportion of global domestic availability that is attributed to Importations use is :  13.16 %\n"
          ]
        }
      ],
      "source": [
        "# 5.Proportion alimentation Importations :\n",
        "prop_alim_exp = (disponibility[\"Importations\"].sum() /disponibility[\"domastic\"].sum()*100).round(2)\n",
        "print(\"The Proportion of global domestic availability that is attributed to Importations use is : \",prop_alim_exp, \"%\")"
      ]
    },
    {
      "cell_type": "markdown",
      "id": "0a459068",
      "metadata": {
        "id": "0a459068"
      },
      "source": [
        "##  Visualisations"
      ]
    },
    {
      "cell_type": "code",
      "execution_count": null,
      "id": "ebbe3348",
      "metadata": {
        "id": "ebbe3348"
      },
      "outputs": [],
      "source": [
        "animal_alim_mean = disponibility[\"for animals\"].mean()\n",
        "human_alim_mean = disponibility[\"nutrition\"].mean()"
      ]
    },
    {
      "cell_type": "code",
      "execution_count": null,
      "id": "67286409",
      "metadata": {
        "id": "67286409"
      },
      "outputs": [],
      "source": [
        "values = [animal_alim_mean, human_alim_mean]\n",
        "labels = [\"alim_for animals\", \"alim_for human\"]"
      ]
    },
    {
      "cell_type": "code",
      "execution_count": null,
      "id": "d5cc4617",
      "metadata": {
        "id": "d5cc4617",
        "outputId": "46b163b1-1eb0-46ac-84d7-e77c24c4d31c"
      },
      "outputs": [
        {
          "data": {
            "image/png": "[encoded data removed]",
            "text/plain": [
              "<Figure size 600x300 with 1 Axes>"
            ]
          },
          "metadata": {},
          "output_type": "display_data"
        }
      ],
      "source": [
        "plt.figure(figsize=(6,3))\n",
        "plt.pie(x = values, labels = labels, autopct='%.2f%%')\n",
        "plt.title(\"Distribution of animal feed vs humain\")\n",
        "\n",
        "plt.show()"
      ]
    },
    {
      "cell_type": "code",
      "execution_count": null,
      "id": "1fa96bb7",
      "metadata": {
        "id": "1fa96bb7",
        "outputId": "45a29331-aa92-42a8-db5c-cfbb580f37b6"
      },
      "outputs": [
        {
          "data": {
            "image/png": "[encoded data removed]",
            "text/plain": [
              "<Figure size 800x500 with 1 Axes>"
            ]
          },
          "metadata": {},
          "output_type": "display_data"
        }
      ],
      "source": [
        "import matplotlib.pyplot as plt\n",
        "\n",
        "# Categories and corresponding proportions\n",
        "categories = ['Animal', 'Human', 'Other use', 'Exportations', 'Importations']\n",
        "proportions = [13.2, 49.5, 8.8, 13.73, 13.16]\n",
        "\n",
        "# Plot\n",
        "plt.figure(figsize=(8, 5))\n",
        "plt.barh(categories, proportions, color='skyblue')\n",
        "plt.xlabel('Proportion (%)')\n",
        "plt.title('Proportions of Different Categories')\n",
        "plt.gca().invert_yaxis()\n",
        "plt.show()\n"
      ]
    },
    {
      "cell_type": "markdown",
      "id": "596e8ee5",
      "metadata": {
        "id": "596e8ee5"
      },
      "source": [
        "* Conclution of this part :\n",
        " The FAO allocates its resources primarily towards addressing human consumption needs (49.5%) and supporting animal-related agriculture (13.2%). Additionally, significant proportions are designated for specific program expenses (Exportations: 13.73% and Importations: 13.16%). Minor resources are dedicated to other operational costs (8.8%)."
      ]
    },
    {
      "cell_type": "markdown",
      "id": "a603be79",
      "metadata": {
        "id": "a603be79"
      },
      "source": [
        "<div style=\"border: 1px solid RGB(0,150,250);\" >\n",
        "<h3 style=\"margin: auto; padding: 20px; color: RGB(0,150,250); \">3.5 - Countries with the highest proportion of undernourished people in 2017</h3>\n",
        "</div>"
      ]
    },
    {
      "cell_type": "code",
      "execution_count": null,
      "id": "9a281608",
      "metadata": {
        "id": "9a281608",
        "outputId": "7726652a-a02a-4fef-da78-9361f7b9750d"
      },
      "outputs": [
        {
          "data": {
            "text/html": [
              "<div>\n",
              "<style scoped>\n",
              "    .dataframe tbody tr th:only-of-type {\n",
              "        vertical-align: middle;\n",
              "    }\n",
              "\n",
              "    .dataframe tbody tr th {\n",
              "        vertical-align: top;\n",
              "    }\n",
              "\n",
              "    .dataframe thead th {\n",
              "        text-align: right;\n",
              "    }\n",
              "</style>\n",
              "<table border=\"1\" class=\"dataframe\">\n",
              "  <thead>\n",
              "    <tr style=\"text-align: right;\">\n",
              "      <th></th>\n",
              "      <th>country</th>\n",
              "      <th>Population</th>\n",
              "      <th>p/nutrition</th>\n",
              "      <th>% prop_nut</th>\n",
              "    </tr>\n",
              "  </thead>\n",
              "  <tbody>\n",
              "    <tr>\n",
              "      <th>78</th>\n",
              "      <td>Haïti</td>\n",
              "      <td>10982366</td>\n",
              "      <td>5300000</td>\n",
              "      <td>48.26</td>\n",
              "    </tr>\n",
              "    <tr>\n",
              "      <th>157</th>\n",
              "      <td>République populaire démocratique de Corée</td>\n",
              "      <td>25429825</td>\n",
              "      <td>12000000</td>\n",
              "      <td>47.19</td>\n",
              "    </tr>\n",
              "    <tr>\n",
              "      <th>108</th>\n",
              "      <td>Madagascar</td>\n",
              "      <td>25570512</td>\n",
              "      <td>10500000</td>\n",
              "      <td>41.06</td>\n",
              "    </tr>\n",
              "    <tr>\n",
              "      <th>103</th>\n",
              "      <td>Libéria</td>\n",
              "      <td>4702226</td>\n",
              "      <td>1800000</td>\n",
              "      <td>38.28</td>\n",
              "    </tr>\n",
              "    <tr>\n",
              "      <th>100</th>\n",
              "      <td>Lesotho</td>\n",
              "      <td>2091534</td>\n",
              "      <td>800000</td>\n",
              "      <td>38.25</td>\n",
              "    </tr>\n",
              "    <tr>\n",
              "      <th>183</th>\n",
              "      <td>Tchad</td>\n",
              "      <td>15016753</td>\n",
              "      <td>5700000</td>\n",
              "      <td>37.96</td>\n",
              "    </tr>\n",
              "    <tr>\n",
              "      <th>161</th>\n",
              "      <td>Rwanda</td>\n",
              "      <td>11980961</td>\n",
              "      <td>4200000</td>\n",
              "      <td>35.06</td>\n",
              "    </tr>\n",
              "    <tr>\n",
              "      <th>121</th>\n",
              "      <td>Mozambique</td>\n",
              "      <td>28649018</td>\n",
              "      <td>9400000</td>\n",
              "      <td>32.81</td>\n",
              "    </tr>\n",
              "    <tr>\n",
              "      <th>186</th>\n",
              "      <td>Timor-Leste</td>\n",
              "      <td>1243258</td>\n",
              "      <td>400000</td>\n",
              "      <td>32.17</td>\n",
              "    </tr>\n",
              "    <tr>\n",
              "      <th>0</th>\n",
              "      <td>Afghanistan</td>\n",
              "      <td>36296113</td>\n",
              "      <td>10500000</td>\n",
              "      <td>28.93</td>\n",
              "    </tr>\n",
              "  </tbody>\n",
              "</table>\n",
              "</div>"
            ],
            "text/plain": [
              "                                        country  Population  p/nutrition  \\\n",
              "78                                        Haïti    10982366      5300000   \n",
              "157  République populaire démocratique de Corée    25429825     12000000   \n",
              "108                                  Madagascar    25570512     10500000   \n",
              "103                                     Libéria     4702226      1800000   \n",
              "100                                     Lesotho     2091534       800000   \n",
              "183                                       Tchad    15016753      5700000   \n",
              "161                                      Rwanda    11980961      4200000   \n",
              "121                                  Mozambique    28649018      9400000   \n",
              "186                                 Timor-Leste     1243258       400000   \n",
              "0                                   Afghanistan    36296113     10500000   \n",
              "\n",
              "     % prop_nut  \n",
              "78        48.26  \n",
              "157       47.19  \n",
              "108       41.06  \n",
              "103       38.28  \n",
              "100       38.25  \n",
              "183       37.96  \n",
              "161       35.06  \n",
              "121       32.81  \n",
              "186       32.17  \n",
              "0         28.93  "
            ]
          },
          "execution_count": 1199,
          "metadata": {},
          "output_type": "execute_result"
        }
      ],
      "source": [
        "nut_pop2017['% prop_nut'] = ((nut_pop2017['p/nutrition'] / nut_pop2017.Population)*100).round(2)\n",
        "nut_pop2017 = nut_pop2017.sort_values(by =['% prop_nut'], ascending = False)\n",
        "nut_pop2017.head(10)"
      ]
    },
    {
      "cell_type": "code",
      "execution_count": null,
      "id": "7f1a5c71",
      "metadata": {
        "id": "7f1a5c71",
        "outputId": "e23bc389-337d-4a2e-fe86-331dd2a7b691"
      },
      "outputs": [
        {
          "data": {
            "image/png": "[encoded data removed]",
            "text/plain": [
              "<Figure size 600x500 with 1 Axes>"
            ]
          },
          "metadata": {},
          "output_type": "display_data"
        }
      ],
      "source": [
        "nut_pop2017 = nut_pop2017.sort_values(by='% prop_nut', ascending=False)\n",
        "top_countries = nut_pop2017.head(10)\n",
        "\n",
        "plt.figure(figsize=(6, 5))\n",
        "plt.barh(top_countries['country'], top_countries['% prop_nut'], color=plt.cm.viridis(np.linspace(0.3, 0.9, 10)))\n",
        "plt.xlabel('Percentage of Undernourished Population (%)')\n",
        "plt.title('Top 10 Countries by Percentage of Undernourished Population in 2017')\n",
        "plt.gca().invert_yaxis()\n",
        "plt.show()"
      ]
    },
    {
      "cell_type": "markdown",
      "id": "0f95d800",
      "metadata": {
        "id": "0f95d800"
      },
      "source": [
        "* we can see most contries is poor contries who have wars"
      ]
    },
    {
      "cell_type": "code",
      "execution_count": null,
      "id": "6ba4462f",
      "metadata": {
        "id": "6ba4462f",
        "outputId": "8f720d86-8464-495e-da21-77cfb2bd1b2e"
      },
      "outputs": [
        {
          "data": {
            "image/png": "[encoded data removed]",
            "text/plain": [
              "<Figure size 600x400 with 1 Axes>"
            ]
          },
          "metadata": {},
          "output_type": "display_data"
        },
        {
          "data": {
            "text/html": [
              "<div>\n",
              "<style scoped>\n",
              "    .dataframe tbody tr th:only-of-type {\n",
              "        vertical-align: middle;\n",
              "    }\n",
              "\n",
              "    .dataframe tbody tr th {\n",
              "        vertical-align: top;\n",
              "    }\n",
              "\n",
              "    .dataframe thead th {\n",
              "        text-align: right;\n",
              "    }\n",
              "</style>\n",
              "<table border=\"1\" class=\"dataframe\">\n",
              "  <thead>\n",
              "    <tr style=\"text-align: right;\">\n",
              "      <th></th>\n",
              "      <th>country</th>\n",
              "      <th>Dispo(Kcal/p/d)</th>\n",
              "    </tr>\n",
              "  </thead>\n",
              "  <tbody>\n",
              "    <tr>\n",
              "      <th>0</th>\n",
              "      <td>Bangladesh</td>\n",
              "      <td>26.095745</td>\n",
              "    </tr>\n",
              "    <tr>\n",
              "      <th>1</th>\n",
              "      <td>Inde</td>\n",
              "      <td>25.298969</td>\n",
              "    </tr>\n",
              "    <tr>\n",
              "      <th>2</th>\n",
              "      <td>Indonésie</td>\n",
              "      <td>28.916667</td>\n",
              "    </tr>\n",
              "    <tr>\n",
              "      <th>3</th>\n",
              "      <td>Pakistan</td>\n",
              "      <td>25.936170</td>\n",
              "    </tr>\n",
              "    <tr>\n",
              "      <th>4</th>\n",
              "      <td>Éthiopie</td>\n",
              "      <td>23.141304</td>\n",
              "    </tr>\n",
              "  </tbody>\n",
              "</table>\n",
              "</div>"
            ],
            "text/plain": [
              "      country  Dispo(Kcal/p/d)\n",
              "0  Bangladesh        26.095745\n",
              "1        Inde        25.298969\n",
              "2   Indonésie        28.916667\n",
              "3    Pakistan        25.936170\n",
              "4    Éthiopie        23.141304"
            ]
          },
          "execution_count": 1206,
          "metadata": {},
          "output_type": "execute_result"
        }
      ],
      "source": [
        "# Calculate the average calorie availability per person per day for the top undernourished countries\n",
        "calorie_availability = disponibility[disponibility['country'].isin(top_countries)]\n",
        "average_calories_by_country = calorie_availability.groupby('country')['Dispo(Kcal/p/d)'].mean().reset_index()\n",
        "\n",
        "# Plotting average calorie availability\n",
        "plt.figure(figsize=(6, 4))\n",
        "plt.bar(average_calories_by_country['country'], average_calories_by_country['Dispo(Kcal/p/d)'], color='purple')\n",
        "plt.title('Average Calorie Availability in Top 5 Most Undernourished Countries')\n",
        "plt.xlabel('Country')\n",
        "plt.ylabel('Average Calories Available per Person per Day')\n",
        "plt.xticks(rotation=45)\n",
        "plt.show()\n",
        "\n",
        "# Display the data\n",
        "average_calories_by_country\n"
      ]
    },
    {
      "cell_type": "markdown",
      "id": "5a6051a8",
      "metadata": {
        "id": "5a6051a8"
      },
      "source": [
        "* we can see contries Undernourished have problem in kcal disponibility"
      ]
    },
    {
      "cell_type": "code",
      "execution_count": null,
      "id": "c9ba3999",
      "metadata": {
        "id": "c9ba3999",
        "outputId": "1b779a89-2c06-42c1-dc98-d708159d9430"
      },
      "outputs": [
        {
          "data": {
            "image/png": "[encoded data removed]",
            "text/plain": [
              "<Figure size 700x400 with 1 Axes>"
            ]
          },
          "metadata": {},
          "output_type": "display_data"
        },
        {
          "data": {
            "text/html": [
              "<div>\n",
              "<style scoped>\n",
              "    .dataframe tbody tr th:only-of-type {\n",
              "        vertical-align: middle;\n",
              "    }\n",
              "\n",
              "    .dataframe tbody tr th {\n",
              "        vertical-align: top;\n",
              "    }\n",
              "\n",
              "    .dataframe thead th {\n",
              "        text-align: right;\n",
              "    }\n",
              "</style>\n",
              "<table border=\"1\" class=\"dataframe\">\n",
              "  <thead>\n",
              "    <tr style=\"text-align: right;\">\n",
              "      <th></th>\n",
              "      <th>country</th>\n",
              "      <th>Import Dependency Ratio</th>\n",
              "    </tr>\n",
              "  </thead>\n",
              "  <tbody>\n",
              "    <tr>\n",
              "      <th>119</th>\n",
              "      <td>Pays-Bas</td>\n",
              "      <td>14.359440</td>\n",
              "    </tr>\n",
              "    <tr>\n",
              "      <th>16</th>\n",
              "      <td>Belgique</td>\n",
              "      <td>3.894686</td>\n",
              "    </tr>\n",
              "    <tr>\n",
              "      <th>45</th>\n",
              "      <td>Djibouti</td>\n",
              "      <td>2.259106</td>\n",
              "    </tr>\n",
              "    <tr>\n",
              "      <th>88</th>\n",
              "      <td>Lituanie</td>\n",
              "      <td>1.692001</td>\n",
              "    </tr>\n",
              "    <tr>\n",
              "      <th>92</th>\n",
              "      <td>Malaisie</td>\n",
              "      <td>1.682906</td>\n",
              "    </tr>\n",
              "    <tr>\n",
              "      <th>44</th>\n",
              "      <td>Danemark</td>\n",
              "      <td>1.643323</td>\n",
              "    </tr>\n",
              "    <tr>\n",
              "      <th>33</th>\n",
              "      <td>Chine - RAS de Hong-Kong</td>\n",
              "      <td>1.502424</td>\n",
              "    </tr>\n",
              "    <tr>\n",
              "      <th>148</th>\n",
              "      <td>Suède</td>\n",
              "      <td>1.364403</td>\n",
              "    </tr>\n",
              "    <tr>\n",
              "      <th>169</th>\n",
              "      <td>Émirats arabes unis</td>\n",
              "      <td>1.355949</td>\n",
              "    </tr>\n",
              "    <tr>\n",
              "      <th>143</th>\n",
              "      <td>Slovénie</td>\n",
              "      <td>1.280840</td>\n",
              "    </tr>\n",
              "  </tbody>\n",
              "</table>\n",
              "</div>"
            ],
            "text/plain": [
              "                      country  Import Dependency Ratio\n",
              "119                  Pays-Bas                14.359440\n",
              "16                   Belgique                 3.894686\n",
              "45                   Djibouti                 2.259106\n",
              "88                   Lituanie                 1.692001\n",
              "92                   Malaisie                 1.682906\n",
              "44                   Danemark                 1.643323\n",
              "33   Chine - RAS de Hong-Kong                 1.502424\n",
              "148                     Suède                 1.364403\n",
              "169       Émirats arabes unis                 1.355949\n",
              "143                  Slovénie                 1.280840"
            ]
          },
          "execution_count": 1209,
          "metadata": {},
          "output_type": "execute_result"
        }
      ],
      "source": [
        "disponibility['Import Dependency Ratio'] = disponibility['Importations'] / disponibility['domastic']\n",
        "\n",
        "import_dependency_data = disponibility[['country', 'Import Dependency Ratio']].replace([np.inf, -np.inf], np.nan).dropna()\n",
        "\n",
        "average_import_dependency = import_dependency_data.groupby('country')['Import Dependency Ratio'].mean().reset_index()\n",
        "\n",
        "top_import_dependency_countries = average_import_dependency.sort_values(by='Import Dependency Ratio', ascending=False).head(10)\n",
        "\n",
        "\n",
        "plt.figure(figsize=(7, 4))\n",
        "plt.barh(top_import_dependency_countries['country'], top_import_dependency_countries['Import Dependency Ratio'], color='orange')\n",
        "plt.title('Top 10 Countries by Import Dependency Ratio')\n",
        "plt.xlabel('Import Dependency Ratio')\n",
        "plt.gca().invert_yaxis()\n",
        "plt.show()\n",
        "\n",
        "# Display the data\n",
        "top_import_dependency_countries\n"
      ]
    },
    {
      "cell_type": "markdown",
      "id": "2e020d1d",
      "metadata": {
        "id": "2e020d1d"
      },
      "source": [
        "* netherland most contry import food duo to people have good income and kcal dispo per person\n",
        "* other contries either poorly or duo to income per person"
      ]
    },
    {
      "cell_type": "code",
      "execution_count": null,
      "id": "25a185b6",
      "metadata": {
        "id": "25a185b6",
        "outputId": "57de5d1f-bc6e-4a26-9aef-ea85cc81903d"
      },
      "outputs": [
        {
          "data": {
            "image/png": "[encoded data removed]",
            "text/plain": [
              "<Figure size 700x400 with 1 Axes>"
            ]
          },
          "metadata": {},
          "output_type": "display_data"
        },
        {
          "data": {
            "text/html": [
              "<div>\n",
              "<style scoped>\n",
              "    .dataframe tbody tr th:only-of-type {\n",
              "        vertical-align: middle;\n",
              "    }\n",
              "\n",
              "    .dataframe tbody tr th {\n",
              "        vertical-align: top;\n",
              "    }\n",
              "\n",
              "    .dataframe thead th {\n",
              "        text-align: right;\n",
              "    }\n",
              "</style>\n",
              "<table border=\"1\" class=\"dataframe\">\n",
              "  <thead>\n",
              "    <tr style=\"text-align: right;\">\n",
              "      <th></th>\n",
              "      <th>country</th>\n",
              "      <th>Import Dependency Ratio</th>\n",
              "    </tr>\n",
              "  </thead>\n",
              "  <tbody>\n",
              "    <tr>\n",
              "      <th>128</th>\n",
              "      <td>République centrafricaine</td>\n",
              "      <td>0.156666</td>\n",
              "    </tr>\n",
              "    <tr>\n",
              "      <th>91</th>\n",
              "      <td>Madagascar</td>\n",
              "      <td>0.163595</td>\n",
              "    </tr>\n",
              "    <tr>\n",
              "      <th>151</th>\n",
              "      <td>Tchad</td>\n",
              "      <td>0.171059</td>\n",
              "    </tr>\n",
              "    <tr>\n",
              "      <th>133</th>\n",
              "      <td>République populaire démocratique de Corée</td>\n",
              "      <td>0.182508</td>\n",
              "    </tr>\n",
              "    <tr>\n",
              "      <th>19</th>\n",
              "      <td>Bolivie (État plurinational de)</td>\n",
              "      <td>0.194340</td>\n",
              "    </tr>\n",
              "    <tr>\n",
              "      <th>23</th>\n",
              "      <td>Brésil</td>\n",
              "      <td>0.198129</td>\n",
              "    </tr>\n",
              "    <tr>\n",
              "      <th>172</th>\n",
              "      <td>Éthiopie</td>\n",
              "      <td>0.207027</td>\n",
              "    </tr>\n",
              "    <tr>\n",
              "      <th>36</th>\n",
              "      <td>Chine, continentale</td>\n",
              "      <td>0.211185</td>\n",
              "    </tr>\n",
              "    <tr>\n",
              "      <th>8</th>\n",
              "      <td>Argentine</td>\n",
              "      <td>0.212845</td>\n",
              "    </tr>\n",
              "    <tr>\n",
              "      <th>134</th>\n",
              "      <td>République-Unie de Tanzanie</td>\n",
              "      <td>0.214471</td>\n",
              "    </tr>\n",
              "  </tbody>\n",
              "</table>\n",
              "</div>"
            ],
            "text/plain": [
              "                                        country  Import Dependency Ratio\n",
              "128                   République centrafricaine                 0.156666\n",
              "91                                   Madagascar                 0.163595\n",
              "151                                       Tchad                 0.171059\n",
              "133  République populaire démocratique de Corée                 0.182508\n",
              "19              Bolivie (État plurinational de)                 0.194340\n",
              "23                                       Brésil                 0.198129\n",
              "172                                    Éthiopie                 0.207027\n",
              "36                          Chine, continentale                 0.211185\n",
              "8                                     Argentine                 0.212845\n",
              "134                 République-Unie de Tanzanie                 0.214471"
            ]
          },
          "execution_count": 1210,
          "metadata": {},
          "output_type": "execute_result"
        }
      ],
      "source": [
        "#sorting of the 10 worst import\n",
        "disponibility['Import Dependency Ratio'] = disponibility['Importations'] / disponibility['domastic']\n",
        "\n",
        "import_dependency_data = disponibility[['country', 'Import Dependency Ratio']].replace([np.inf, -np.inf], np.nan).dropna()\n",
        "\n",
        "average_import_dependency = import_dependency_data.groupby('country')['Import Dependency Ratio'].mean().reset_index()\n",
        "\n",
        "top_import_dependency_countries = average_import_dependency.sort_values(by='Import Dependency Ratio', ascending=True).head(10)\n",
        "\n",
        "\n",
        "plt.figure(figsize=(7, 4))\n",
        "plt.barh(top_import_dependency_countries['country'], top_import_dependency_countries['Import Dependency Ratio'], color='orange')\n",
        "plt.title('Flop 10 Countries by Import Dependency Ratio')\n",
        "plt.xlabel('Import Dependency Ratio')\n",
        "plt.gca().invert_yaxis()\n",
        "plt.show()\n",
        "\n",
        "# Display the data\n",
        "top_import_dependency_countries\n"
      ]
    },
    {
      "cell_type": "markdown",
      "id": "4f610008",
      "metadata": {
        "id": "4f610008"
      },
      "source": [
        "<div style=\"border: 1px solid RGB(0,150,250);\" >\n",
        "<h3 style=\"margin: auto; padding: 20px; color: RGB(0,150,250); \">3.7 - Countries that have benefited the most from food aid since 2013</h3>\n",
        "</div>"
      ]
    },
    {
      "cell_type": "code",
      "execution_count": null,
      "id": "ff1b24a3",
      "metadata": {
        "id": "ff1b24a3",
        "outputId": "0633cd01-d6c3-42d3-c858-6ca1a13bdc8c"
      },
      "outputs": [
        {
          "data": {
            "image/png": "[encoded data removed]",
            "text/plain": [
              "<Figure size 800x600 with 1 Axes>"
            ]
          },
          "metadata": {},
          "output_type": "display_data"
        }
      ],
      "source": [
        "# Plotting the top countries by food aid received\n",
        "plt.figure(figsize=(8, 6))\n",
        "plt.barh(top_food_aid_countries['country'], top_food_aid_countries['value'], color='cadetblue')\n",
        "plt.xlabel('Total Food Aid Received')\n",
        "plt.ylabel('Country')\n",
        "plt.title('Top 10 Countries by Food Aid Received Since 2013')\n",
        "plt.gca().invert_yaxis()\n",
        "plt.show()\n",
        "\n"
      ]
    },
    {
      "cell_type": "markdown",
      "id": "daef2e1b",
      "metadata": {
        "id": "daef2e1b"
      },
      "source": [
        "* all contries Countries by Food Aid Received Since 2013 have political problems (africa, asia)\n",
        "* syria most contry get aid since 2013 duo to the civil war started in 2011"
      ]
    },
    {
      "cell_type": "markdown",
      "id": "a361ce61",
      "metadata": {
        "id": "a361ce61"
      },
      "source": [
        "<div style=\"border: 1px solid RGB(0,150,250);\" >\n",
        "<h3 style=\"margin: auto; padding: 20px; color: RGB(0,150,250); \">3.8 - Evolution of the 5 countries which benefited the most from food aid between 2013 and 2016</h3>\n",
        "</div>"
      ]
    },
    {
      "cell_type": "code",
      "execution_count": null,
      "id": "5680e72d",
      "metadata": {
        "id": "5680e72d",
        "outputId": "1be39b32-191d-4cfd-8beb-3777ed459171"
      },
      "outputs": [
        {
          "data": {
            "image/png": "[encoded data removed]",
            "text/plain": [
              "<Figure size 1000x600 with 1 Axes>"
            ]
          },
          "metadata": {},
          "output_type": "display_data"
        }
      ],
      "source": [
        "# Filter the data for the top 5 countries and the years 2013 to 2016\n",
        "food_aid_since_2013 = alimentary[alimentary['year'] >= 2013].groupby('country')['value'].sum().reset_index()\n",
        "\n",
        "# Sort the countries based on the total food aid received in descending order\n",
        "top_food_aid_countries = food_aid_since_2013.sort_values(by='value', ascending=False).head(10)\n",
        "top_5_countries = top_food_aid_countries['country'].head(5)\n",
        "filtered_data = alimentary[(alimentary['country'].isin(top_5_countries)) & (alimentary['year'] >= 2013) & (alimentary['year'] <= 2016)]\n",
        "\n",
        "# Group by country and year\n",
        "evolution_aid = filtered_data.groupby(['country', 'year'])['value'].sum().unstack()\n",
        "\n",
        "\n",
        "evolution_aid.plot(kind='bar', figsize=(10, 6))\n",
        "plt.title('Evolution of Food Aid Received by Top 5 Countries from 2013 to 2016')\n",
        "plt.xlabel('Country')\n",
        "plt.ylabel('Total Food Aid Received')\n",
        "plt.xticks(rotation=0)\n",
        "plt.legend(title='Year')\n",
        "plt.show()"
      ]
    },
    {
      "cell_type": "markdown",
      "id": "74702d59",
      "metadata": {
        "id": "74702d59"
      },
      "source": [
        "* syrian most contry get aid food by time because of the war period\n",
        "* there is correlation between aid feed and political situation in the country, if war continue the country will get food aid"
      ]
    },
    {
      "cell_type": "code",
      "execution_count": null,
      "id": "b4e6c8e6",
      "metadata": {
        "id": "b4e6c8e6",
        "outputId": "f1e030d7-c0e5-4ff8-e0a5-16faa855999b"
      },
      "outputs": [
        {
          "data": {
            "application/vnd.plotly.v1+json": {
              "config": {
                "plotlyServerURL": "https://plot.ly"
              },
              "data": [
                {
                  "coloraxis": "coloraxis",
                  "customdata": [
                    [
                      10982366,
                      5300000,
                      48.26
                    ],
                    [
                      25429825,
                      12000000,
                      47.19
                    ],
                    [
                      25570512,
                      10500000,
                      41.06
                    ],
                    [
                      4702226,
                      1800000,
                      38.28
                    ],
                    [
                      2091534,
                      800000,
                      38.25
                    ],
                    [
                      15016753,
                      5700000,
                      37.96
                    ],
                    [
                      11980961,
                      4200000,
                      35.06
                    ],
                    [
                      28649018,
                      9400000,
                      32.81
                    ],
                    [
                      1243258,
                      400000,
                      32.17
                    ],
                    [
                      36296113,
                      10500000,
                      28.93
                    ],
                    [
                      5110695,
                      1400000,
                      27.39
                    ],
                    [
                      29402484,
                      8000000,
                      27.21
                    ],
                    [
                      7488423,
                      2000000,
                      26.71
                    ],
                    [
                      54660339,
                      13400000,
                      24.52
                    ],
                    [
                      37552781,
                      9000000,
                      23.97
                    ],
                    [
                      50221142,
                      11900000,
                      23.7
                    ],
                    [
                      2205080,
                      500000,
                      22.67
                    ],
                    [
                      7698474,
                      1600000,
                      20.78
                    ],
                    [
                      24437470,
                      4900000,
                      20.05
                    ],
                    [
                      106399924,
                      21100000,
                      19.83
                    ],
                    [
                      29816766,
                      5800000,
                      19.45
                    ],
                    [
                      3113786,
                      600000,
                      19.27
                    ],
                    [
                      19193234,
                      3600000,
                      18.76
                    ],
                    [
                      17670196,
                      3300000,
                      18.68
                    ],
                    [
                      1124805,
                      200000,
                      17.78
                    ],
                    [
                      6384846,
                      1100000,
                      17.23
                    ],
                    [
                      16914970,
                      2700000,
                      15.96
                    ],
                    [
                      11192855,
                      1700000,
                      15.19
                    ],
                    [
                      16009409,
                      2400000,
                      14.99
                    ],
                    [
                      105172925,
                      15700000,
                      14.93
                    ],
                    [
                      2064822,
                      300000,
                      14.53
                    ],
                    [
                      1338676785,
                      190100000,
                      14.2
                    ],
                    [
                      9429013,
                      1300000,
                      13.79
                    ],
                    [
                      53382523,
                      7300000,
                      13.67
                    ],
                    [
                      2213889,
                      300000,
                      13.55
                    ],
                    [
                      159685424,
                      21500000,
                      13.46
                    ],
                    [
                      2402633,
                      300000,
                      12.49
                    ],
                    [
                      40813397,
                      5000000,
                      12.25
                    ],
                    [
                      190873244,
                      22800000,
                      11.95
                    ],
                    [
                      207906209,
                      24800000,
                      11.93
                    ],
                    [
                      4282570,
                      500000,
                      11.68
                    ],
                    [
                      2920848,
                      300000,
                      10.27
                    ],
                    [
                      15419355,
                      1500000,
                      9.73
                    ],
                    [
                      6388126,
                      600000,
                      9.39
                    ],
                    [
                      69209810,
                      6200000,
                      8.96
                    ],
                    [
                      16785361,
                      1500000,
                      8.94
                    ],
                    [
                      264650963,
                      23600000,
                      8.92
                    ],
                    [
                      6867061,
                      600000,
                      8.74
                    ],
                    [
                      4665928,
                      400000,
                      8.57
                    ],
                    [
                      9785843,
                      800000,
                      8.18
                    ],
                    [
                      21128032,
                      1600000,
                      7.57
                    ],
                    [
                      4008716,
                      300000,
                      7.48
                    ],
                    [
                      4106769,
                      300000,
                      7.31
                    ],
                    [
                      11175198,
                      800000,
                      7.16
                    ],
                    [
                      31444298,
                      2200000,
                      7
                    ],
                    [
                      29121465,
                      2000000,
                      6.87
                    ],
                    [
                      94600648,
                      6500000,
                      6.87
                    ],
                    [
                      124777324,
                      8400000,
                      6.73
                    ],
                    [
                      24566073,
                      1600000,
                      6.51
                    ],
                    [
                      6189733,
                      400000,
                      6.46
                    ],
                    [
                      27632681,
                      1700000,
                      6.15
                    ],
                    [
                      6819373,
                      400000,
                      5.87
                    ],
                    [
                      10513104,
                      600000,
                      5.71
                    ],
                    [
                      48909839,
                      2700000,
                      5.52
                    ],
                    [
                      5447900,
                      300000,
                      5.51
                    ],
                    [
                      57009756,
                      3100000,
                      5.44
                    ],
                    [
                      18512430,
                      1000000,
                      5.4
                    ],
                    [
                      33101178,
                      1600000,
                      4.83
                    ],
                    [
                      80673883,
                      3900000,
                      4.83
                    ],
                    [
                      96442591,
                      4600000,
                      4.77
                    ],
                    [
                      8829628,
                      400000,
                      4.53
                    ],
                    [
                      4949954,
                      200000,
                      4.04
                    ],
                    [
                      35581255,
                      1400000,
                      3.93
                    ],
                    [
                      23674546,
                      900000,
                      3.8
                    ],
                    [
                      2884169,
                      100000,
                      3.47
                    ],
                    [
                      5757667,
                      200000,
                      3.47
                    ],
                    [
                      43937140,
                      1500000,
                      3.41
                    ],
                    [
                      44487709,
                      1500000,
                      3.37
                    ],
                    [
                      18470439,
                      600000,
                      3.25
                    ],
                    [
                      31104646,
                      1000000,
                      3.21
                    ],
                    [
                      9487203,
                      300000,
                      3.16
                    ],
                    [
                      41389189,
                      1300000,
                      3.14
                    ],
                    [
                      31959785,
                      900000,
                      2.82
                    ],
                    [
                      7102444,
                      200000,
                      2.82
                    ],
                    [
                      9450231,
                      0,
                      0
                    ],
                    [
                      11419748,
                      0,
                      0
                    ],
                    [
                      375769,
                      0,
                      0
                    ],
                    [
                      1319390,
                      0,
                      0
                    ],
                    [
                      114158,
                      0,
                      0
                    ],
                    [
                      286232,
                      0,
                      0
                    ],
                    [
                      18080019,
                      0,
                      0
                    ],
                    [
                      63049,
                      0,
                      0
                    ],
                    [
                      325084756,
                      0,
                      0
                    ],
                    [
                      145530082,
                      0,
                      0
                    ],
                    [
                      2081996,
                      0,
                      0
                    ],
                    [
                      71458,
                      0,
                      0
                    ],
                    [
                      4056099,
                      0,
                      0
                    ],
                    [
                      1264499,
                      0,
                      0
                    ],
                    [
                      745563,
                      0,
                      0
                    ],
                    [
                      1494076,
                      0,
                      0
                    ],
                    [
                      381755,
                      0,
                      0
                    ],
                    [
                      8819901,
                      0,
                      0
                    ],
                    [
                      95426,
                      0,
                      0
                    ],
                    [
                      627563,
                      0,
                      0
                    ],
                    [
                      82658409,
                      0,
                      0
                    ],
                    [
                      9845320,
                      0,
                      0
                    ],
                    [
                      3351525,
                      0,
                      0
                    ],
                    [
                      207833823,
                      0,
                      0
                    ],
                    [
                      424473,
                      0,
                      0
                    ],
                    [
                      46647428,
                      0,
                      0
                    ],
                    [
                      3412893,
                      0,
                      0
                    ],
                    [
                      6580724,
                      0,
                      0
                    ],
                    [
                      77001,
                      0,
                      0
                    ],
                    [
                      21602382,
                      0,
                      0
                    ],
                    [
                      60673701,
                      0,
                      0
                    ],
                    [
                      496402,
                      0,
                      0
                    ],
                    [
                      2845414,
                      0,
                      0
                    ],
                    [
                      64842509,
                      0,
                      0
                    ],
                    [
                      4753279,
                      0,
                      0
                    ],
                    [
                      636039,
                      0,
                      0
                    ],
                    [
                      58058,
                      0,
                      0
                    ],
                    [
                      17507,
                      0,
                      0
                    ],
                    [
                      9729823,
                      0,
                      0
                    ],
                    [
                      775222,
                      0,
                      0
                    ],
                    [
                      334393,
                      0,
                      0
                    ],
                    [
                      1828145,
                      0,
                      0
                    ],
                    [
                      12067518,
                      0,
                      0
                    ],
                    [
                      56481,
                      0,
                      0
                    ],
                    [
                      110874,
                      0,
                      0
                    ],
                    [
                      10569450,
                      0,
                      0
                    ],
                    [
                      5511371,
                      0,
                      0
                    ],
                    [
                      591910,
                      0,
                      0
                    ],
                    [
                      1262002,
                      0,
                      0
                    ],
                    [
                      24584620,
                      0,
                      0
                    ],
                    [
                      877459,
                      0,
                      0
                    ],
                    [
                      2944791,
                      0,
                      0
                    ],
                    [
                      8243848,
                      0,
                      0
                    ],
                    [
                      5732274,
                      0,
                      0
                    ],
                    [
                      127502725,
                      0,
                      0
                    ],
                    [
                      10573,
                      0,
                      0
                    ],
                    [
                      111459,
                      0,
                      0
                    ],
                    [
                      437933,
                      0,
                      0
                    ],
                    [
                      944099,
                      0,
                      0
                    ],
                    [
                      10641034,
                      0,
                      0
                    ],
                    [
                      11339254,
                      0,
                      0
                    ],
                    [
                      5708041,
                      0,
                      0
                    ],
                    [
                      10910763,
                      0,
                      0
                    ],
                    [
                      16853599,
                      0,
                      0
                    ],
                    [
                      27834819,
                      0,
                      0
                    ],
                    [
                      285510,
                      0,
                      0
                    ],
                    [
                      3436641,
                      0,
                      0
                    ],
                    [
                      11370,
                      0,
                      0
                    ],
                    [
                      81116450,
                      0,
                      0
                    ],
                    [
                      622585,
                      0,
                      0
                    ],
                    [
                      1384059,
                      0,
                      0
                    ],
                    [
                      8880268,
                      0,
                      0
                    ],
                    [
                      8455804,
                      0,
                      0
                    ],
                    [
                      9904896,
                      0,
                      0
                    ],
                    [
                      2724728,
                      0,
                      0
                    ],
                    [
                      570496,
                      0,
                      0
                    ],
                    [
                      2076393,
                      0,
                      0
                    ],
                    [
                      10288527,
                      0,
                      0
                    ],
                    [
                      52045,
                      0,
                      0
                    ],
                    [
                      3163667,
                      0,
                      0
                    ],
                    [
                      17021346,
                      0,
                      0
                    ],
                    [
                      14589178,
                      0,
                      0
                    ],
                    [
                      276102,
                      0,
                      0
                    ],
                    [
                      17808,
                      0,
                      0
                    ],
                    [
                      8438036,
                      0,
                      0
                    ],
                    [
                      41166588,
                      0,
                      0
                    ],
                    [
                      4747227,
                      0,
                      0
                    ],
                    [
                      37953180,
                      0,
                      0
                    ],
                    [
                      11433443,
                      0,
                      0
                    ],
                    [
                      36732095,
                      0,
                      0
                    ],
                    [
                      1179678,
                      0,
                      0
                    ],
                    [
                      55620,
                      0,
                      0
                    ],
                    [
                      1421021791,
                      0,
                      0
                    ],
                    [
                      7306321,
                      0,
                      0
                    ],
                    [
                      537498,
                      0,
                      0
                    ],
                    [
                      10827018,
                      0,
                      0
                    ],
                    [
                      1609,
                      0,
                      0
                    ],
                    [
                      101998,
                      0,
                      0
                    ],
                    [
                      5296326,
                      0,
                      0
                    ],
                    [
                      1300,
                      0,
                      0
                    ],
                    [
                      1951097,
                      0,
                      0
                    ],
                    [
                      4702034,
                      0,
                      0
                    ],
                    [
                      96418,
                      0,
                      0
                    ],
                    [
                      207089,
                      0,
                      0
                    ],
                    [
                      195352,
                      0,
                      0
                    ],
                    [
                      813891,
                      0,
                      0
                    ],
                    [
                      109827,
                      0,
                      0
                    ],
                    [
                      277150,
                      0,
                      0
                    ],
                    [
                      180954,
                      0,
                      0
                    ],
                    [
                      66727460,
                      0,
                      0
                    ],
                    [
                      19653969,
                      0,
                      0
                    ],
                    [
                      6953035,
                      0,
                      0
                    ],
                    [
                      81398764,
                      0,
                      0
                    ],
                    [
                      4059684,
                      0,
                      0
                    ],
                    [
                      51096415,
                      0,
                      0
                    ],
                    [
                      4596023,
                      0,
                      0
                    ],
                    [
                      17095678,
                      0,
                      0
                    ],
                    [
                      4182857,
                      0,
                      0
                    ],
                    [
                      14236595,
                      0,
                      0
                    ]
                  ],
                  "geo": "geo",
                  "hovertemplate": "<b>%{hovertext}</b><br><br>country=%{location}<br>Population=%{customdata[0]}<br>p/nutrition=%{customdata[1]}<br>% prop_nut=%{z}<extra></extra>",
                  "hovertext": [
                    "Haïti",
                    "République populaire démocratique de Corée",
                    "Madagascar",
                    "Libéria",
                    "Lesotho",
                    "Tchad",
                    "Rwanda",
                    "Mozambique",
                    "Timor-Leste",
                    "Afghanistan",
                    "Congo",
                    "Venezuela (République bolivarienne du)",
                    "Sierra Leone",
                    "République-Unie de Tanzanie",
                    "Iraq",
                    "Kenya",
                    "Botswana",
                    "Togo",
                    "Côte d'Ivoire",
                    "Éthiopie",
                    "Angola",
                    "Mongolie",
                    "Burkina Faso",
                    "Malawi",
                    "Eswatini",
                    "Nicaragua",
                    "Guatemala",
                    "Bolivie (État plurinational de)",
                    "Cambodge",
                    "Philippines",
                    "Gabon",
                    "Inde",
                    "Honduras",
                    "Myanmar",
                    "Gambie",
                    "Bangladesh",
                    "Namibie",
                    "Soudan",
                    "Nigéria",
                    "Pakistan",
                    "Mauritanie",
                    "Jamaïque",
                    "Sénégal",
                    "El Salvador",
                    "Thaïlande",
                    "Équateur",
                    "Indonésie",
                    "Paraguay",
                    "Oman",
                    "Jordanie",
                    "Sri Lanka",
                    "Géorgie",
                    "Panama",
                    "Bénin",
                    "Pérou",
                    "Ghana",
                    "Viet Nam",
                    "Mexique",
                    "Cameroun",
                    "Kirghizistan",
                    "Népal",
                    "Liban",
                    "République dominicaine",
                    "Colombie",
                    "Slovaquie",
                    "Afrique du Sud",
                    "Mali",
                    "Arabie saoudite",
                    "Iran (République islamique d')",
                    "Égypte",
                    "Serbie",
                    "Costa Rica",
                    "Maroc",
                    "Chine, Taiwan Province de",
                    "Albanie",
                    "Turkménistan",
                    "Argentine",
                    "Ukraine",
                    "Chili",
                    "Malaisie",
                    "Émirats arabes unis",
                    "Algérie",
                    "Ouzbékistan",
                    "Bulgarie",
                    "Bélarus",
                    "Belgique",
                    "Belize",
                    "Estonie",
                    "Kiribati",
                    "Barbade",
                    "Kazakhstan",
                    "Bermudes",
                    "États-Unis d'Amérique",
                    "Fédération de Russie",
                    "Macédoine du Nord",
                    "Dominique",
                    "Koweït",
                    "Maurice",
                    "Bhoutan",
                    "Bahreïn",
                    "Bahamas",
                    "Autriche",
                    "Antigua-et-Barbuda",
                    "Monténégro",
                    "Allemagne",
                    "Azerbaïdjan",
                    "Bosnie-Herzégovine",
                    "Brésil",
                    "Brunéi Darussalam",
                    "Espagne",
                    "Érythrée",
                    "Libye",
                    "Andorre",
                    "Niger",
                    "Italie",
                    "Maldives",
                    "Lituanie",
                    "France",
                    "Irlande",
                    "Îles Salomon",
                    "Îles Marshall",
                    "Îles Cook",
                    "Hongrie",
                    "Guyana",
                    "Islande",
                    "Guinée-Bissau",
                    "Guinée",
                    "Groenland",
                    "Grenade",
                    "Grèce",
                    "Finlande",
                    "Luxembourg",
                    "Guinée équatoriale",
                    "Australie",
                    "Fidji",
                    "Arménie",
                    "Israël",
                    "Danemark",
                    "Japon",
                    "Nauru",
                    "Micronésie (États fédérés de)",
                    "Malte",
                    "Djibouti",
                    "Tchéquie",
                    "Cuba",
                    "Singapour",
                    "Soudan du Sud",
                    "Zambie",
                    "Yémen",
                    "Vanuatu",
                    "Uruguay",
                    "Tuvalu",
                    "Turquie",
                    "Chine - RAS de Macao",
                    "Trinité-et-Tobago",
                    "Tadjikistan",
                    "Suisse",
                    "Suède",
                    "Qatar",
                    "Suriname",
                    "Slovénie",
                    "Portugal",
                    "Saint-Kitts-et-Nevis",
                    "Porto Rico",
                    "Pays-Bas",
                    "Somalie",
                    "Polynésie française",
                    "Palaos",
                    "Papouasie-Nouvelle-Guinée",
                    "Ouganda",
                    "Palestine",
                    "Pologne",
                    "Tunisie",
                    "Canada",
                    "Chypre",
                    "Samoa américaines",
                    "Chine, continentale",
                    "Chine - RAS de Hong-Kong",
                    "Cabo Verde",
                    "Burundi",
                    "Nioué",
                    "Tonga",
                    "Norvège",
                    "Tokélaou",
                    "Lettonie",
                    "Nouvelle-Zélande",
                    "Seychelles",
                    "Sao Tomé-et-Principe",
                    "Samoa",
                    "Comores",
                    "Saint-Vincent-et-les Grenadines",
                    "Nouvelle-Calédonie",
                    "Sainte-Lucie",
                    "Royaume-Uni de Grande-Bretagne et d'Irlande du Nord",
                    "Roumanie",
                    "République démocratique populaire lao",
                    "République démocratique du Congo",
                    "République de Moldova",
                    "République de Corée",
                    "République centrafricaine",
                    "République arabe syrienne",
                    "Croatie",
                    "Zimbabwe"
                  ],
                  "locationmode": "country names",
                  "locations": [
                    "Haïti",
                    "République populaire démocratique de Corée",
                    "Madagascar",
                    "Libéria",
                    "Lesotho",
                    "Tchad",
                    "Rwanda",
                    "Mozambique",
                    "Timor-Leste",
                    "Afghanistan",
                    "Congo",
                    "Venezuela (République bolivarienne du)",
                    "Sierra Leone",
                    "République-Unie de Tanzanie",
                    "Iraq",
                    "Kenya",
                    "Botswana",
                    "Togo",
                    "Côte d'Ivoire",
                    "Éthiopie",
                    "Angola",
                    "Mongolie",
                    "Burkina Faso",
                    "Malawi",
                    "Eswatini",
                    "Nicaragua",
                    "Guatemala",
                    "Bolivie (État plurinational de)",
                    "Cambodge",
                    "Philippines",
                    "Gabon",
                    "Inde",
                    "Honduras",
                    "Myanmar",
                    "Gambie",
                    "Bangladesh",
                    "Namibie",
                    "Soudan",
                    "Nigéria",
                    "Pakistan",
                    "Mauritanie",
                    "Jamaïque",
                    "Sénégal",
                    "El Salvador",
                    "Thaïlande",
                    "Équateur",
                    "Indonésie",
                    "Paraguay",
                    "Oman",
                    "Jordanie",
                    "Sri Lanka",
                    "Géorgie",
                    "Panama",
                    "Bénin",
                    "Pérou",
                    "Ghana",
                    "Viet Nam",
                    "Mexique",
                    "Cameroun",
                    "Kirghizistan",
                    "Népal",
                    "Liban",
                    "République dominicaine",
                    "Colombie",
                    "Slovaquie",
                    "Afrique du Sud",
                    "Mali",
                    "Arabie saoudite",
                    "Iran (République islamique d')",
                    "Égypte",
                    "Serbie",
                    "Costa Rica",
                    "Maroc",
                    "Chine, Taiwan Province de",
                    "Albanie",
                    "Turkménistan",
                    "Argentine",
                    "Ukraine",
                    "Chili",
                    "Malaisie",
                    "Émirats arabes unis",
                    "Algérie",
                    "Ouzbékistan",
                    "Bulgarie",
                    "Bélarus",
                    "Belgique",
                    "Belize",
                    "Estonie",
                    "Kiribati",
                    "Barbade",
                    "Kazakhstan",
                    "Bermudes",
                    "États-Unis d'Amérique",
                    "Fédération de Russie",
                    "Macédoine du Nord",
                    "Dominique",
                    "Koweït",
                    "Maurice",
                    "Bhoutan",
                    "Bahreïn",
                    "Bahamas",
                    "Autriche",
                    "Antigua-et-Barbuda",
                    "Monténégro",
                    "Allemagne",
                    "Azerbaïdjan",
                    "Bosnie-Herzégovine",
                    "Brésil",
                    "Brunéi Darussalam",
                    "Espagne",
                    "Érythrée",
                    "Libye",
                    "Andorre",
                    "Niger",
                    "Italie",
                    "Maldives",
                    "Lituanie",
                    "France",
                    "Irlande",
                    "Îles Salomon",
                    "Îles Marshall",
                    "Îles Cook",
                    "Hongrie",
                    "Guyana",
                    "Islande",
                    "Guinée-Bissau",
                    "Guinée",
                    "Groenland",
                    "Grenade",
                    "Grèce",
                    "Finlande",
                    "Luxembourg",
                    "Guinée équatoriale",
                    "Australie",
                    "Fidji",
                    "Arménie",
                    "Israël",
                    "Danemark",
                    "Japon",
                    "Nauru",
                    "Micronésie (États fédérés de)",
                    "Malte",
                    "Djibouti",
                    "Tchéquie",
                    "Cuba",
                    "Singapour",
                    "Soudan du Sud",
                    "Zambie",
                    "Yémen",
                    "Vanuatu",
                    "Uruguay",
                    "Tuvalu",
                    "Turquie",
                    "Chine - RAS de Macao",
                    "Trinité-et-Tobago",
                    "Tadjikistan",
                    "Suisse",
                    "Suède",
                    "Qatar",
                    "Suriname",
                    "Slovénie",
                    "Portugal",
                    "Saint-Kitts-et-Nevis",
                    "Porto Rico",
                    "Pays-Bas",
                    "Somalie",
                    "Polynésie française",
                    "Palaos",
                    "Papouasie-Nouvelle-Guinée",
                    "Ouganda",
                    "Palestine",
                    "Pologne",
                    "Tunisie",
                    "Canada",
                    "Chypre",
                    "Samoa américaines",
                    "Chine, continentale",
                    "Chine - RAS de Hong-Kong",
                    "Cabo Verde",
                    "Burundi",
                    "Nioué",
                    "Tonga",
                    "Norvège",
                    "Tokélaou",
                    "Lettonie",
                    "Nouvelle-Zélande",
                    "Seychelles",
                    "Sao Tomé-et-Principe",
                    "Samoa",
                    "Comores",
                    "Saint-Vincent-et-les Grenadines",
                    "Nouvelle-Calédonie",
                    "Sainte-Lucie",
                    "Royaume-Uni de Grande-Bretagne et d'Irlande du Nord",
                    "Roumanie",
                    "République démocratique populaire lao",
                    "République démocratique du Congo",
                    "République de Moldova",
                    "République de Corée",
                    "République centrafricaine",
                    "République arabe syrienne",
                    "Croatie",
                    "Zimbabwe"
                  ],
                  "name": "",
                  "type": "choropleth",
                  "z": [
                    48.26,
                    47.19,
                    41.06,
                    38.28,
                    38.25,
                    37.96,
                    35.06,
                    32.81,
                    32.17,
                    28.93,
                    27.39,
                    27.21,
                    26.71,
                    24.52,
                    23.97,
                    23.7,
                    22.67,
                    20.78,
                    20.05,
                    19.83,
                    19.45,
                    19.27,
                    18.76,
                    18.68,
                    17.78,
                    17.23,
                    15.96,
                    15.19,
                    14.99,
                    14.93,
                    14.53,
                    14.2,
                    13.79,
                    13.67,
                    13.55,
                    13.46,
                    12.49,
                    12.25,
                    11.95,
                    11.93,
                    11.68,
                    10.27,
                    9.73,
                    9.39,
                    8.96,
                    8.94,
                    8.92,
                    8.74,
                    8.57,
                    8.18,
                    7.57,
                    7.48,
                    7.31,
                    7.16,
                    7,
                    6.87,
                    6.87,
                    6.73,
                    6.51,
                    6.46,
                    6.15,
                    5.87,
                    5.71,
                    5.52,
                    5.51,
                    5.44,
                    5.4,
                    4.83,
                    4.83,
                    4.77,
                    4.53,
                    4.04,
                    3.93,
                    3.8,
                    3.47,
                    3.47,
                    3.41,
                    3.37,
                    3.25,
                    3.21,
                    3.16,
                    3.14,
                    2.82,
                    2.82,
                    0,
                    0,
                    0,
                    0,
                    0,
                    0,
                    0,
                    0,
                    0,
                    0,
                    0,
                    0,
                    0,
                    0,
                    0,
                    0,
                    0,
                    0,
                    0,
                    0,
                    0,
                    0,
                    0,
                    0,
                    0,
                    0,
                    0,
                    0,
                    0,
                    0,
                    0,
                    0,
                    0,
                    0,
                    0,
                    0,
                    0,
                    0,
                    0,
                    0,
                    0,
                    0,
                    0,
                    0,
                    0,
                    0,
                    0,
                    0,
                    0,
                    0,
                    0,
                    0,
                    0,
                    0,
                    0,
                    0,
                    0,
                    0,
                    0,
                    0,
                    0,
                    0,
                    0,
                    0,
                    0,
                    0,
                    0,
                    0,
                    0,
                    0,
                    0,
                    0,
                    0,
                    0,
                    0,
                    0,
                    0,
                    0,
                    0,
                    0,
                    0,
                    0,
                    0,
                    0,
                    0,
                    0,
                    0,
                    0,
                    0,
                    0,
                    0,
                    0,
                    0,
                    0,
                    0,
                    0,
                    0,
                    0,
                    0,
                    0,
                    0,
                    0,
                    0,
                    0,
                    0,
                    0,
                    0,
                    0,
                    0,
                    0,
                    0,
                    0,
                    0,
                    0,
                    0,
                    0,
                    0,
                    0,
                    0
                  ]
                }
              ],
              "layout": {
                "coloraxis": {
                  "colorbar": {
                    "title": {
                      "text": "% prop_nut"
                    }
                  },
                  "colorscale": [
                    [
                      0,
                      "#0d0887"
                    ],
                    [
                      0.1111111111111111,
                      "#46039f"
                    ],
                    [
                      0.2222222222222222,
                      "#7201a8"
                    ],
                    [
                      0.3333333333333333,
                      "#9c179e"
                    ],
                    [
                      0.4444444444444444,
                      "#bd3786"
                    ],
                    [
                      0.5555555555555556,
                      "#d8576b"
                    ],
                    [
                      0.6666666666666666,
                      "#ed7953"
                    ],
                    [
                      0.7777777777777778,
                      "#fb9f3a"
                    ],
                    [
                      0.8888888888888888,
                      "#fdca26"
                    ],
                    [
                      1,
                      "#f0f921"
                    ]
                  ]
                },
                "geo": {
                  "center": {},
                  "domain": {
                    "x": [
                      0,
                      1
                    ],
                    "y": [
                      0,
                      1
                    ]
                  }
                },
                "legend": {
                  "tracegroupgap": 0
                },
                "template": {
                  "data": {
                    "bar": [
                      {
                        "error_x": {
                          "color": "#2a3f5f"
                        },
                        "error_y": {
                          "color": "#2a3f5f"
                        },
                        "marker": {
                          "line": {
                            "color": "#E5ECF6",
                            "width": 0.5
                          },
                          "pattern": {
                            "fillmode": "overlay",
                            "size": 10,
                            "solidity": 0.2
                          }
                        },
                        "type": "bar"
                      }
                    ],
                    "barpolar": [
                      {
                        "marker": {
                          "line": {
                            "color": "#E5ECF6",
                            "width": 0.5
                          },
                          "pattern": {
                            "fillmode": "overlay",
                            "size": 10,
                            "solidity": 0.2
                          }
                        },
                        "type": "barpolar"
                      }
                    ],
                    "carpet": [
                      {
                        "aaxis": {
                          "endlinecolor": "#2a3f5f",
                          "gridcolor": "white",
                          "linecolor": "white",
                          "minorgridcolor": "white",
                          "startlinecolor": "#2a3f5f"
                        },
                        "baxis": {
                          "endlinecolor": "#2a3f5f",
                          "gridcolor": "white",
                          "linecolor": "white",
                          "minorgridcolor": "white",
                          "startlinecolor": "#2a3f5f"
                        },
                        "type": "carpet"
                      }
                    ],
                    "choropleth": [
                      {
                        "colorbar": {
                          "outlinewidth": 0,
                          "ticks": ""
                        },
                        "type": "choropleth"
                      }
                    ],
                    "contour": [
                      {
                        "colorbar": {
                          "outlinewidth": 0,
                          "ticks": ""
                        },
                        "colorscale": [
                          [
                            0,
                            "#0d0887"
                          ],
                          [
                            0.1111111111111111,
                            "#46039f"
                          ],
                          [
                            0.2222222222222222,
                            "#7201a8"
                          ],
                          [
                            0.3333333333333333,
                            "#9c179e"
                          ],
                          [
                            0.4444444444444444,
                            "#bd3786"
                          ],
                          [
                            0.5555555555555556,
                            "#d8576b"
                          ],
                          [
                            0.6666666666666666,
                            "#ed7953"
                          ],
                          [
                            0.7777777777777778,
                            "#fb9f3a"
                          ],
                          [
                            0.8888888888888888,
                            "#fdca26"
                          ],
                          [
                            1,
                            "#f0f921"
                          ]
                        ],
                        "type": "contour"
                      }
                    ],
                    "contourcarpet": [
                      {
                        "colorbar": {
                          "outlinewidth": 0,
                          "ticks": ""
                        },
                        "type": "contourcarpet"
                      }
                    ],
                    "heatmap": [
                      {
                        "colorbar": {
                          "outlinewidth": 0,
                          "ticks": ""
                        },
                        "colorscale": [
                          [
                            0,
                            "#0d0887"
                          ],
                          [
                            0.1111111111111111,
                            "#46039f"
                          ],
                          [
                            0.2222222222222222,
                            "#7201a8"
                          ],
                          [
                            0.3333333333333333,
                            "#9c179e"
                          ],
                          [
                            0.4444444444444444,
                            "#bd3786"
                          ],
                          [
                            0.5555555555555556,
                            "#d8576b"
                          ],
                          [
                            0.6666666666666666,
                            "#ed7953"
                          ],
                          [
                            0.7777777777777778,
                            "#fb9f3a"
                          ],
                          [
                            0.8888888888888888,
                            "#fdca26"
                          ],
                          [
                            1,
                            "#f0f921"
                          ]
                        ],
                        "type": "heatmap"
                      }
                    ],
                    "heatmapgl": [
                      {
                        "colorbar": {
                          "outlinewidth": 0,
                          "ticks": ""
                        },
                        "colorscale": [
                          [
                            0,
                            "#0d0887"
                          ],
                          [
                            0.1111111111111111,
                            "#46039f"
                          ],
                          [
                            0.2222222222222222,
                            "#7201a8"
                          ],
                          [
                            0.3333333333333333,
                            "#9c179e"
                          ],
                          [
                            0.4444444444444444,
                            "#bd3786"
                          ],
                          [
                            0.5555555555555556,
                            "#d8576b"
                          ],
                          [
                            0.6666666666666666,
                            "#ed7953"
                          ],
                          [
                            0.7777777777777778,
                            "#fb9f3a"
                          ],
                          [
                            0.8888888888888888,
                            "#fdca26"
                          ],
                          [
                            1,
                            "#f0f921"
                          ]
                        ],
                        "type": "heatmapgl"
                      }
                    ],
                    "histogram": [
                      {
                        "marker": {
                          "pattern": {
                            "fillmode": "overlay",
                            "size": 10,
                            "solidity": 0.2
                          }
                        },
                        "type": "histogram"
                      }
                    ],
                    "histogram2d": [
                      {
                        "colorbar": {
                          "outlinewidth": 0,
                          "ticks": ""
                        },
                        "colorscale": [
                          [
                            0,
                            "#0d0887"
                          ],
                          [
                            0.1111111111111111,
                            "#46039f"
                          ],
                          [
                            0.2222222222222222,
                            "#7201a8"
                          ],
                          [
                            0.3333333333333333,
                            "#9c179e"
                          ],
                          [
                            0.4444444444444444,
                            "#bd3786"
                          ],
                          [
                            0.5555555555555556,
                            "#d8576b"
                          ],
                          [
                            0.6666666666666666,
                            "#ed7953"
                          ],
                          [
                            0.7777777777777778,
                            "#fb9f3a"
                          ],
                          [
                            0.8888888888888888,
                            "#fdca26"
                          ],
                          [
                            1,
                            "#f0f921"
                          ]
                        ],
                        "type": "histogram2d"
                      }
                    ],
                    "histogram2dcontour": [
                      {
                        "colorbar": {
                          "outlinewidth": 0,
                          "ticks": ""
                        },
                        "colorscale": [
                          [
                            0,
                            "#0d0887"
                          ],
                          [
                            0.1111111111111111,
                            "#46039f"
                          ],
                          [
                            0.2222222222222222,
                            "#7201a8"
                          ],
                          [
                            0.3333333333333333,
                            "#9c179e"
                          ],
                          [
                            0.4444444444444444,
                            "#bd3786"
                          ],
                          [
                            0.5555555555555556,
                            "#d8576b"
                          ],
                          [
                            0.6666666666666666,
                            "#ed7953"
                          ],
                          [
                            0.7777777777777778,
                            "#fb9f3a"
                          ],
                          [
                            0.8888888888888888,
                            "#fdca26"
                          ],
                          [
                            1,
                            "#f0f921"
                          ]
                        ],
                        "type": "histogram2dcontour"
                      }
                    ],
                    "mesh3d": [
                      {
                        "colorbar": {
                          "outlinewidth": 0,
                          "ticks": ""
                        },
                        "type": "mesh3d"
                      }
                    ],
                    "parcoords": [
                      {
                        "line": {
                          "colorbar": {
                            "outlinewidth": 0,
                            "ticks": ""
                          }
                        },
                        "type": "parcoords"
                      }
                    ],
                    "pie": [
                      {
                        "automargin": true,
                        "type": "pie"
                      }
                    ],
                    "scatter": [
                      {
                        "fillpattern": {
                          "fillmode": "overlay",
                          "size": 10,
                          "solidity": 0.2
                        },
                        "type": "scatter"
                      }
                    ],
                    "scatter3d": [
                      {
                        "line": {
                          "colorbar": {
                            "outlinewidth": 0,
                            "ticks": ""
                          }
                        },
                        "marker": {
                          "colorbar": {
                            "outlinewidth": 0,
                            "ticks": ""
                          }
                        },
                        "type": "scatter3d"
                      }
                    ],
                    "scattercarpet": [
                      {
                        "marker": {
                          "colorbar": {
                            "outlinewidth": 0,
                            "ticks": ""
                          }
                        },
                        "type": "scattercarpet"
                      }
                    ],
                    "scattergeo": [
                      {
                        "marker": {
                          "colorbar": {
                            "outlinewidth": 0,
                            "ticks": ""
                          }
                        },
                        "type": "scattergeo"
                      }
                    ],
                    "scattergl": [
                      {
                        "marker": {
                          "colorbar": {
                            "outlinewidth": 0,
                            "ticks": ""
                          }
                        },
                        "type": "scattergl"
                      }
                    ],
                    "scattermapbox": [
                      {
                        "marker": {
                          "colorbar": {
                            "outlinewidth": 0,
                            "ticks": ""
                          }
                        },
                        "type": "scattermapbox"
                      }
                    ],
                    "scatterpolar": [
                      {
                        "marker": {
                          "colorbar": {
                            "outlinewidth": 0,
                            "ticks": ""
                          }
                        },
                        "type": "scatterpolar"
                      }
                    ],
                    "scatterpolargl": [
                      {
                        "marker": {
                          "colorbar": {
                            "outlinewidth": 0,
                            "ticks": ""
                          }
                        },
                        "type": "scatterpolargl"
                      }
                    ],
                    "scatterternary": [
                      {
                        "marker": {
                          "colorbar": {
                            "outlinewidth": 0,
                            "ticks": ""
                          }
                        },
                        "type": "scatterternary"
                      }
                    ],
                    "surface": [
                      {
                        "colorbar": {
                          "outlinewidth": 0,
                          "ticks": ""
                        },
                        "colorscale": [
                          [
                            0,
                            "#0d0887"
                          ],
                          [
                            0.1111111111111111,
                            "#46039f"
                          ],
                          [
                            0.2222222222222222,
                            "#7201a8"
                          ],
                          [
                            0.3333333333333333,
                            "#9c179e"
                          ],
                          [
                            0.4444444444444444,
                            "#bd3786"
                          ],
                          [
                            0.5555555555555556,
                            "#d8576b"
                          ],
                          [
                            0.6666666666666666,
                            "#ed7953"
                          ],
                          [
                            0.7777777777777778,
                            "#fb9f3a"
                          ],
                          [
                            0.8888888888888888,
                            "#fdca26"
                          ],
                          [
                            1,
                            "#f0f921"
                          ]
                        ],
                        "type": "surface"
                      }
                    ],
                    "table": [
                      {
                        "cells": {
                          "fill": {
                            "color": "#EBF0F8"
                          },
                          "line": {
                            "color": "white"
                          }
                        },
                        "header": {
                          "fill": {
                            "color": "#C8D4E3"
                          },
                          "line": {
                            "color": "white"
                          }
                        },
                        "type": "table"
                      }
                    ]
                  },
                  "layout": {
                    "annotationdefaults": {
                      "arrowcolor": "#2a3f5f",
                      "arrowhead": 0,
                      "arrowwidth": 1
                    },
                    "autotypenumbers": "strict",
                    "coloraxis": {
                      "colorbar": {
                        "outlinewidth": 0,
                        "ticks": ""
                      }
                    },
                    "colorscale": {
                      "diverging": [
                        [
                          0,
                          "#8e0152"
                        ],
                        [
                          0.1,
                          "#c51b7d"
                        ],
                        [
                          0.2,
                          "#de77ae"
                        ],
                        [
                          0.3,
                          "#f1b6da"
                        ],
                        [
                          0.4,
                          "#fde0ef"
                        ],
                        [
                          0.5,
                          "#f7f7f7"
                        ],
                        [
                          0.6,
                          "#e6f5d0"
                        ],
                        [
                          0.7,
                          "#b8e186"
                        ],
                        [
                          0.8,
                          "#7fbc41"
                        ],
                        [
                          0.9,
                          "#4d9221"
                        ],
                        [
                          1,
                          "#276419"
                        ]
                      ],
                      "sequential": [
                        [
                          0,
                          "#0d0887"
                        ],
                        [
                          0.1111111111111111,
                          "#46039f"
                        ],
                        [
                          0.2222222222222222,
                          "#7201a8"
                        ],
                        [
                          0.3333333333333333,
                          "#9c179e"
                        ],
                        [
                          0.4444444444444444,
                          "#bd3786"
                        ],
                        [
                          0.5555555555555556,
                          "#d8576b"
                        ],
                        [
                          0.6666666666666666,
                          "#ed7953"
                        ],
                        [
                          0.7777777777777778,
                          "#fb9f3a"
                        ],
                        [
                          0.8888888888888888,
                          "#fdca26"
                        ],
                        [
                          1,
                          "#f0f921"
                        ]
                      ],
                      "sequentialminus": [
                        [
                          0,
                          "#0d0887"
                        ],
                        [
                          0.1111111111111111,
                          "#46039f"
                        ],
                        [
                          0.2222222222222222,
                          "#7201a8"
                        ],
                        [
                          0.3333333333333333,
                          "#9c179e"
                        ],
                        [
                          0.4444444444444444,
                          "#bd3786"
                        ],
                        [
                          0.5555555555555556,
                          "#d8576b"
                        ],
                        [
                          0.6666666666666666,
                          "#ed7953"
                        ],
                        [
                          0.7777777777777778,
                          "#fb9f3a"
                        ],
                        [
                          0.8888888888888888,
                          "#fdca26"
                        ],
                        [
                          1,
                          "#f0f921"
                        ]
                      ]
                    },
                    "colorway": [
                      "#636efa",
                      "#EF553B",
                      "#00cc96",
                      "#ab63fa",
                      "#FFA15A",
                      "#19d3f3",
                      "#FF6692",
                      "#B6E880",
                      "#FF97FF",
                      "#FECB52"
                    ],
                    "font": {
                      "color": "#2a3f5f"
                    },
                    "geo": {
                      "bgcolor": "white",
                      "lakecolor": "white",
                      "landcolor": "#E5ECF6",
                      "showlakes": true,
                      "showland": true,
                      "subunitcolor": "white"
                    },
                    "hoverlabel": {
                      "align": "left"
                    },
                    "hovermode": "closest",
                    "mapbox": {
                      "style": "light"
                    },
                    "paper_bgcolor": "white",
                    "plot_bgcolor": "#E5ECF6",
                    "polar": {
                      "angularaxis": {
                        "gridcolor": "white",
                        "linecolor": "white",
                        "ticks": ""
                      },
                      "bgcolor": "#E5ECF6",
                      "radialaxis": {
                        "gridcolor": "white",
                        "linecolor": "white",
                        "ticks": ""
                      }
                    },
                    "scene": {
                      "xaxis": {
                        "backgroundcolor": "#E5ECF6",
                        "gridcolor": "white",
                        "gridwidth": 2,
                        "linecolor": "white",
                        "showbackground": true,
                        "ticks": "",
                        "zerolinecolor": "white"
                      },
                      "yaxis": {
                        "backgroundcolor": "#E5ECF6",
                        "gridcolor": "white",
                        "gridwidth": 2,
                        "linecolor": "white",
                        "showbackground": true,
                        "ticks": "",
                        "zerolinecolor": "white"
                      },
                      "zaxis": {
                        "backgroundcolor": "#E5ECF6",
                        "gridcolor": "white",
                        "gridwidth": 2,
                        "linecolor": "white",
                        "showbackground": true,
                        "ticks": "",
                        "zerolinecolor": "white"
                      }
                    },
                    "shapedefaults": {
                      "line": {
                        "color": "#2a3f5f"
                      }
                    },
                    "ternary": {
                      "aaxis": {
                        "gridcolor": "white",
                        "linecolor": "white",
                        "ticks": ""
                      },
                      "baxis": {
                        "gridcolor": "white",
                        "linecolor": "white",
                        "ticks": ""
                      },
                      "bgcolor": "#E5ECF6",
                      "caxis": {
                        "gridcolor": "white",
                        "linecolor": "white",
                        "ticks": ""
                      }
                    },
                    "title": {
                      "x": 0.05
                    },
                    "xaxis": {
                      "automargin": true,
                      "gridcolor": "white",
                      "linecolor": "white",
                      "ticks": "",
                      "title": {
                        "standoff": 15
                      },
                      "zerolinecolor": "white",
                      "zerolinewidth": 2
                    },
                    "yaxis": {
                      "automargin": true,
                      "gridcolor": "white",
                      "linecolor": "white",
                      "ticks": "",
                      "title": {
                        "standoff": 15
                      },
                      "zerolinecolor": "white",
                      "zerolinewidth": 2
                    }
                  }
                },
                "title": {
                  "text": "World Map Showing Nutrition Data"
                },
                "updatemenus": [
                  {
                    "buttons": [
                      {
                        "args": [
                          {
                            "hovertext": [
                              [
                                10982366,
                                25429825,
                                25570512,
                                4702226,
                                2091534,
                                15016753,
                                11980961,
                                28649018,
                                1243258,
                                36296113,
                                5110695,
                                29402484,
                                7488423,
                                54660339,
                                37552781,
                                50221142,
                                2205080,
                                7698474,
                                24437470,
                                106399924,
                                29816766,
                                3113786,
                                19193234,
                                17670196,
                                1124805,
                                6384846,
                                16914970,
                                11192855,
                                16009409,
                                105172925,
                                2064822,
                                1338676785,
                                9429013,
                                53382523,
                                2213889,
                                159685424,
                                2402633,
                                40813397,
                                190873244,
                                207906209,
                                4282570,
                                2920848,
                                15419355,
                                6388126,
                                69209810,
                                16785361,
                                264650963,
                                6867061,
                                4665928,
                                9785843,
                                21128032,
                                4008716,
                                4106769,
                                11175198,
                                31444298,
                                29121465,
                                94600648,
                                124777324,
                                24566073,
                                6189733,
                                27632681,
                                6819373,
                                10513104,
                                48909839,
                                5447900,
                                57009756,
                                18512430,
                                33101178,
                                80673883,
                                96442591,
                                8829628,
                                4949954,
                                35581255,
                                23674546,
                                2884169,
                                5757667,
                                43937140,
                                44487709,
                                18470439,
                                31104646,
                                9487203,
                                41389189,
                                31959785,
                                7102444,
                                9450231,
                                11419748,
                                375769,
                                1319390,
                                114158,
                                286232,
                                18080019,
                                63049,
                                325084756,
                                145530082,
                                2081996,
                                71458,
                                4056099,
                                1264499,
                                745563,
                                1494076,
                                381755,
                                8819901,
                                95426,
                                627563,
                                82658409,
                                9845320,
                                3351525,
                                207833823,
                                424473,
                                46647428,
                                3412893,
                                6580724,
                                77001,
                                21602382,
                                60673701,
                                496402,
                                2845414,
                                64842509,
                                4753279,
                                636039,
                                58058,
                                17507,
                                9729823,
                                775222,
                                334393,
                                1828145,
                                12067518,
                                56481,
                                110874,
                                10569450,
                                5511371,
                                591910,
                                1262002,
                                24584620,
                                877459,
                                2944791,
                                8243848,
                                5732274,
                                127502725,
                                10573,
                                111459,
                                437933,
                                944099,
                                10641034,
                                11339254,
                                5708041,
                                10910763,
                                16853599,
                                27834819,
                                285510,
                                3436641,
                                11370,
                                81116450,
                                622585,
                                1384059,
                                8880268,
                                8455804,
                                9904896,
                                2724728,
                                570496,
                                2076393,
                                10288527,
                                52045,
                                3163667,
                                17021346,
                                14589178,
                                276102,
                                17808,
                                8438036,
                                41166588,
                                4747227,
                                37953180,
                                11433443,
                                36732095,
                                1179678,
                                55620,
                                1421021791,
                                7306321,
                                537498,
                                10827018,
                                1609,
                                101998,
                                5296326,
                                1300,
                                1951097,
                                4702034,
                                96418,
                                207089,
                                195352,
                                813891,
                                109827,
                                277150,
                                180954,
                                66727460,
                                19653969,
                                6953035,
                                81398764,
                                4059684,
                                51096415,
                                4596023,
                                17095678,
                                4182857,
                                14236595
                              ]
                            ]
                          },
                          {
                            "hoverinfo": "text+name"
                          }
                        ],
                        "label": "Population",
                        "method": "update"
                      },
                      {
                        "args": [
                          {
                            "hovertext": [
                              [
                                5300000,
                                12000000,
                                10500000,
                                1800000,
                                800000,
                                5700000,
                                4200000,
                                9400000,
                                400000,
                                10500000,
                                1400000,
                                8000000,
                                2000000,
                                13400000,
                                9000000,
                                11900000,
                                500000,
                                1600000,
                                4900000,
                                21100000,
                                5800000,
                                600000,
                                3600000,
                                3300000,
                                200000,
                                1100000,
                                2700000,
                                1700000,
                                2400000,
                                15700000,
                                300000,
                                190100000,
                                1300000,
                                7300000,
                                300000,
                                21500000,
                                300000,
                                5000000,
                                22800000,
                                24800000,
                                500000,
                                300000,
                                1500000,
                                600000,
                                6200000,
                                1500000,
                                23600000,
                                600000,
                                400000,
                                800000,
                                1600000,
                                300000,
                                300000,
                                800000,
                                2200000,
                                2000000,
                                6500000,
                                8400000,
                                1600000,
                                400000,
                                1700000,
                                400000,
                                600000,
                                2700000,
                                300000,
                                3100000,
                                1000000,
                                1600000,
                                3900000,
                                4600000,
                                400000,
                                200000,
                                1400000,
                                900000,
                                100000,
                                200000,
                                1500000,
                                1500000,
                                600000,
                                1000000,
                                300000,
                                1300000,
                                900000,
                                200000,
                                0,
                                0,
                                0,
                                0,
                                0,
                                0,
                                0,
                                0,
                                0,
                                0,
                                0,
                                0,
                                0,
                                0,
                                0,
                                0,
                                0,
                                0,
                                0,
                                0,
                                0,
                                0,
                                0,
                                0,
                                0,
                                0,
                                0,
                                0,
                                0,
                                0,
                                0,
                                0,
                                0,
                                0,
                                0,
                                0,
                                0,
                                0,
                                0,
                                0,
                                0,
                                0,
                                0,
                                0,
                                0,
                                0,
                                0,
                                0,
                                0,
                                0,
                                0,
                                0,
                                0,
                                0,
                                0,
                                0,
                                0,
                                0,
                                0,
                                0,
                                0,
                                0,
                                0,
                                0,
                                0,
                                0,
                                0,
                                0,
                                0,
                                0,
                                0,
                                0,
                                0,
                                0,
                                0,
                                0,
                                0,
                                0,
                                0,
                                0,
                                0,
                                0,
                                0,
                                0,
                                0,
                                0,
                                0,
                                0,
                                0,
                                0,
                                0,
                                0,
                                0,
                                0,
                                0,
                                0,
                                0,
                                0,
                                0,
                                0,
                                0,
                                0,
                                0,
                                0,
                                0,
                                0,
                                0,
                                0,
                                0,
                                0,
                                0,
                                0,
                                0,
                                0,
                                0,
                                0,
                                0,
                                0,
                                0
                              ]
                            ]
                          },
                          {
                            "hoverinfo": "text+name"
                          }
                        ],
                        "label": "People with Nutrition Issues",
                        "method": "update"
                      },
                      {
                        "args": [
                          {
                            "hovertext": [
                              [
                                48.26,
                                47.19,
                                41.06,
                                38.28,
                                38.25,
                                37.96,
                                35.06,
                                32.81,
                                32.17,
                                28.93,
                                27.39,
                                27.21,
                                26.71,
                                24.52,
                                23.97,
                                23.7,
                                22.67,
                                20.78,
                                20.05,
                                19.83,
                                19.45,
                                19.27,
                                18.76,
                                18.68,
                                17.78,
                                17.23,
                                15.96,
                                15.19,
                                14.99,
                                14.93,
                                14.53,
                                14.2,
                                13.79,
                                13.67,
                                13.55,
                                13.46,
                                12.49,
                                12.25,
                                11.95,
                                11.93,
                                11.68,
                                10.27,
                                9.73,
                                9.39,
                                8.96,
                                8.94,
                                8.92,
                                8.74,
                                8.57,
                                8.18,
                                7.57,
                                7.48,
                                7.31,
                                7.16,
                                7,
                                6.87,
                                6.87,
                                6.73,
                                6.51,
                                6.46,
                                6.15,
                                5.87,
                                5.71,
                                5.52,
                                5.51,
                                5.44,
                                5.4,
                                4.83,
                                4.83,
                                4.77,
                                4.53,
                                4.04,
                                3.93,
                                3.8,
                                3.47,
                                3.47,
                                3.41,
                                3.37,
                                3.25,
                                3.21,
                                3.16,
                                3.14,
                                2.82,
                                2.82,
                                0,
                                0,
                                0,
                                0,
                                0,
                                0,
                                0,
                                0,
                                0,
                                0,
                                0,
                                0,
                                0,
                                0,
                                0,
                                0,
                                0,
                                0,
                                0,
                                0,
                                0,
                                0,
                                0,
                                0,
                                0,
                                0,
                                0,
                                0,
                                0,
                                0,
                                0,
                                0,
                                0,
                                0,
                                0,
                                0,
                                0,
                                0,
                                0,
                                0,
                                0,
                                0,
                                0,
                                0,
                                0,
                                0,
                                0,
                                0,
                                0,
                                0,
                                0,
                                0,
                                0,
                                0,
                                0,
                                0,
                                0,
                                0,
                                0,
                                0,
                                0,
                                0,
                                0,
                                0,
                                0,
                                0,
                                0,
                                0,
                                0,
                                0,
                                0,
                                0,
                                0,
                                0,
                                0,
                                0,
                                0,
                                0,
                                0,
                                0,
                                0,
                                0,
                                0,
                                0,
                                0,
                                0,
                                0,
                                0,
                                0,
                                0,
                                0,
                                0,
                                0,
                                0,
                                0,
                                0,
                                0,
                                0,
                                0,
                                0,
                                0,
                                0,
                                0,
                                0,
                                0,
                                0,
                                0,
                                0,
                                0,
                                0,
                                0,
                                0,
                                0,
                                0,
                                0,
                                0,
                                0,
                                0,
                                0
                              ]
                            ]
                          },
                          {
                            "hoverinfo": "text+name"
                          }
                        ],
                        "label": "Percentage with Nutrition Issues",
                        "method": "update"
                      }
                    ],
                    "direction": "down",
                    "pad": {
                      "r": 10,
                      "t": 10
                    },
                    "showactive": true,
                    "x": 0.11,
                    "xanchor": "left",
                    "y": 1.12,
                    "yanchor": "top"
                  }
                ]
              }
            }
          },
          "metadata": {},
          "output_type": "display_data"
        }
      ],
      "source": [
        "import plotly.express as px\n",
        "\n",
        "# Create a world map with interactive labels for each data column\n",
        "fig = px.choropleth(nut_pop2017,\n",
        "                    locations=\"country\",\n",
        "                    locationmode='country names',\n",
        "                    color=\"% prop_nut\",\n",
        "                    hover_name=\"country\",\n",
        "                    hover_data=[\"Population\", \"p/nutrition\", \"% prop_nut\"],\n",
        "                    title=\"World Map Showing Nutrition Data\",\n",
        "                    color_continuous_scale=px.colors.sequential.Plasma)\n",
        "\n",
        "# Update layout to add dropdown for different labels\n",
        "button_layer_1_height = 1.12\n",
        "fig.update_layout(\n",
        "    updatemenus=[\n",
        "        dict(\n",
        "            buttons=list([\n",
        "                dict(\n",
        "                    args=[{\"hovertext\": [nut_pop2017[\"Population\"]]},\n",
        "                          {\"hoverinfo\": \"text+name\"}],\n",
        "                    label=\"Population\",\n",
        "                    method=\"update\"\n",
        "                ),\n",
        "                dict(\n",
        "                    args=[{\"hovertext\": [nut_pop2017[\"p/nutrition\"]]},\n",
        "                          {\"hoverinfo\": \"text+name\"}],\n",
        "                    label=\"People with Nutrition Issues\",\n",
        "                    method=\"update\"\n",
        "                ),\n",
        "                dict(\n",
        "                    args=[{\"hovertext\": [nut_pop2017[\"% prop_nut\"]]},\n",
        "                          {\"hoverinfo\": \"text+name\"}],\n",
        "                    label=\"Percentage with Nutrition Issues\",\n",
        "                    method=\"update\"\n",
        "                )\n",
        "            ]),\n",
        "            direction=\"down\",\n",
        "            pad={\"r\": 10, \"t\": 10},\n",
        "            showactive=True,\n",
        "            x=0.11,\n",
        "            xanchor=\"left\",\n",
        "            y=button_layer_1_height,\n",
        "            yanchor=\"top\"\n",
        "        ),\n",
        "    ]\n",
        ")\n",
        "\n",
        "fig.show()\n"
      ]
    },
    {
      "cell_type": "markdown",
      "id": "066b3a36",
      "metadata": {
        "id": "066b3a36"
      },
      "source": [
        "* we can see that most countries have nutrition problem is contries have wars, big population\n",
        "* most of this contries located in africa, asia and some of them in south of america"
      ]
    },
    {
      "cell_type": "markdown",
      "id": "ec84e0a7",
      "metadata": {
        "id": "ec84e0a7"
      },
      "source": [
        "<div style=\"background-color: RGB(0,150,250);\" >\n",
        "<h2 style=\"margin: auto; padding: 20px; color:#fff; \">Step 6 - Statistic tests</h2>\n",
        "</div>"
      ]
    },
    {
      "cell_type": "code",
      "execution_count": null,
      "id": "65f76595",
      "metadata": {
        "id": "65f76595",
        "outputId": "25cec9f7-e6e7-4405-bdf9-65b3a7fc0859"
      },
      "outputs": [
        {
          "data": {
            "text/plain": [
              "(0.6699620202698333, 0.0)"
            ]
          },
          "execution_count": 1259,
          "metadata": {},
          "output_type": "execute_result"
        }
      ],
      "source": [
        "from scipy.stats import pearsonr\n",
        "\n",
        "# Pearson Correlation between 'Population_x' and 'p/nutrition'\n",
        "pearson_corr, p_value = pearsonr(df2['Population_x'], df2['p/nutrition'])\n",
        "\n",
        "pearson_corr, p_value"
      ]
    },
    {
      "cell_type": "markdown",
      "id": "bb6c1946",
      "metadata": {
        "id": "bb6c1946"
      },
      "source": [
        "* i apply pearson test with two quantitative variable, we see positive correlation R² =0.669\n",
        "\n",
        " which means if contry have big population, it will need feed aid."
      ]
    },
    {
      "cell_type": "code",
      "execution_count": null,
      "id": "b1d9bbd4",
      "metadata": {
        "id": "b1d9bbd4",
        "outputId": "c3417934-17f7-486a-ac0b-a19cde07eb11"
      },
      "outputs": [
        {
          "data": {
            "text/plain": [
              "(0.9917484523548546, 0.0)"
            ]
          },
          "execution_count": 1300,
          "metadata": {},
          "output_type": "execute_result"
        }
      ],
      "source": [
        "# Pearson Correlation between 'Population_x' and 'p/nutrition'\n",
        "pearson_corr, p_value = pearsonr(df2['domastic'], df2['Production'])\n",
        "\n",
        "pearson_corr, p_value"
      ]
    },
    {
      "cell_type": "markdown",
      "id": "2c434876",
      "metadata": {
        "id": "2c434876"
      },
      "source": [
        "* i apply pearson test with two quantitative variable, we see positive correlation R² =0.99\n",
        "\n",
        " which means if contry have big Production,realise alimenatry security."
      ]
    },
    {
      "cell_type": "markdown",
      "id": "f4656895",
      "metadata": {
        "id": "f4656895"
      },
      "source": [
        "# Conclution\n",
        "The 2017 FAO data reveals critical insights into global food security and distribution. Approximately 7.1% of the global population was undernourished, despite a global caloric surplus sufficient to feed over 8.57 billion people. The majority of available calories (93.84%) came from plant-based sources, capable of nourishing about 7.08 billion people. Notably, a significant portion of global calories was allocated to non-human consumption, including 13.2% for animal feed and 13.73% for exports. Countries with the highest rates of undernourishment often faced economic hardships and conflicts, highlighting a strong link between political instability and food insecurity. The top import-dependent countries varied widely, from wealthy nations like the Netherlands to poorer regions, underscoring diverse challenges in global food distribution. The correlation between political instability and the necessity for food aid was pronounced, especially in parts of Africa and Asia, suggesting that achieving food security globally requires addressing both political and economic disparities."
      ]
    }
  ],
  "metadata": {
    "kernelspec": {
      "display_name": "Python 3",
      "language": "python",
      "name": "python3"
    },
    "language_info": {
      "codemirror_mode": {
        "name": "ipython",
        "version": 3
      },
      "file_extension": ".py",
      "mimetype": "text/x-python",
      "name": "python",
      "nbconvert_exporter": "python",
      "pygments_lexer": "ipython3",
      "version": "3.12.2"
    },
    "colab": {
      "provenance": []
    }
  },
  "nbformat": 4,
  "nbformat_minor": 5
}